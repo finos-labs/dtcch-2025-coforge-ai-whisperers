{
 "cells": [
  {
   "cell_type": "code",
   "execution_count": 1,
   "metadata": {},
   "outputs": [
    {
     "name": "stdout",
     "output_type": "stream",
     "text": [
      "hello\n"
     ]
    }
   ],
   "source": [
    "print(\"hello\")"
   ]
  },
  {
   "cell_type": "code",
   "execution_count": 1,
   "metadata": {},
   "outputs": [],
   "source": [
    "from sourcing_selenium_BeautifulSoup import nasdaq_corporate_actions\n"
   ]
  },
  {
   "cell_type": "code",
   "execution_count": 2,
   "metadata": {},
   "outputs": [
    {
     "name": "stdout",
     "output_type": "stream",
     "text": [
      "Data saved to nasdaq_corporate_actions_with_Article_content.csv\n",
      "           Date                                           Headline  \\\n",
      "0  Feb 05, 2025  Equity Corporate Actions Alert #2025-49 - Info...   \n",
      "\n",
      "                                                Link  \\\n",
      "0  https://www.nasdaqtrader.com/TraderNews.aspx?i...   \n",
      "\n",
      "                                     Article_Content  \n",
      "0  The tender offer by Crown Laboratories, Inc. t...  \n"
     ]
    },
    {
     "name": "stderr",
     "output_type": "stream",
     "text": [
      "c:\\Users\\hackathon\\DTCC_Sourcing\\sourcing_selenium_BeautifulSoup.py:111: SettingWithCopyWarning: \n",
      "A value is trying to be set on a copy of a slice from a DataFrame.\n",
      "Try using .loc[row_indexer,col_indexer] = value instead\n",
      "\n",
      "See the caveats in the documentation: https://pandas.pydata.org/pandas-docs/stable/user_guide/indexing.html#returning-a-view-versus-a-copy\n",
      "  df[\"Article_Content\"] = df[\"Link\"].apply(lambda url: scrape_article_content(url) if pd.notna(url) and url.startswith(\"http\") else \"\")\n"
     ]
    }
   ],
   "source": [
    "k=nasdaq_corporate_actions()"
   ]
  },
  {
   "cell_type": "code",
   "execution_count": 5,
   "metadata": {},
   "outputs": [
    {
     "data": {
      "text/plain": [
       "Index(['Date', 'Headline', 'Link', 'Article_Content'], dtype='object')"
      ]
     },
     "execution_count": 5,
     "metadata": {},
     "output_type": "execute_result"
    }
   ],
   "source": [
    "k.columns"
   ]
  },
  {
   "cell_type": "code",
   "execution_count": 16,
   "metadata": {},
   "outputs": [],
   "source": [
    "import pandas as pd\n",
    "from datetime import datetime\n",
    "from anthropic_client import get_anthropic_client\n",
    "from prompt_templates import PROMPT_TEMPLATES, corporate_action_prompt\n",
    "import json\n",
    "# Initialize the AnthropicBedrock client\n",
    "client = get_anthropic_client()\n",
    "\n",
    "def invoke_claude(prompt):\n",
    "    \"\"\"Sends a prompt to Claude 3.5 on AWS Bedrock and returns the response.\"\"\"\n",
    "    try:\n",
    "        response = client.messages.create(\n",
    "            model=\"anthropic.claude-3-5-sonnet-20241022-v2:0\",\n",
    "            max_tokens=200,\n",
    "            temperature=0.5,\n",
    "            messages=[{\"role\": \"user\", \"content\": prompt}]\n",
    "        )\n",
    "        return response.content\n",
    "    except Exception as e:\n",
    "        print(f\"ERROR: Can't invoke the model. Reason: {e}\")\n",
    "        return None\n",
    "\n",
    "def process_corporate_actions_from_df(df):\n",
    "    \"\"\"Process extracted text to determine corporate actions and extract details from dataframe.\"\"\"\n",
    "    formatted_data = []\n",
    "    current_datetime = datetime.now().strftime(\"%Y-%m-%d %H:%M:%S\")\n",
    "    \n",
    "    for index, row in df.iterrows():\n",
    "        # Determine corporate action type from the Headline\n",
    "        headline = row['Article_Content']\n",
    "        prompt = corporate_action_prompt.format(data=headline)\n",
    "        corporate_action = invoke_claude(prompt)\n",
    "        corporate_action=corporate_action[0].text\n",
    "        print(corporate_action)\n",
    "        # Assuming that we have valid corporate action, process further\n",
    "        if corporate_action and corporate_action != \"No Corporate Action Found\":\n",
    "            corporate_action = corporate_action.strip()\n",
    "            \n",
    "            # Extract details based on corporate action type from the entire dictionary (row)\n",
    "            detail_prompt = PROMPT_TEMPLATES[corporate_action].format(data=row.to_dict())\n",
    "            detail_response = invoke_claude(detail_prompt)\n",
    "        \n",
    "            if detail_response:\n",
    "                # Extract Company Name and Announcement Date (example logic, adjust as needed)\n",
    "                extracted_info = detail_response[0].text.split(\"\\n\")\n",
    "                company_name = next((line.split(\": \")[1] for line in extracted_info if \"Company_Name:\" in line), \"Unknown\")\n",
    "                announcement_date = next((line.split(\": \")[1] for line in extracted_info if \"Announcement_Date:\" in line), datetime.now().strftime(\"%Y-%m-%d\"))\n",
    "                \n",
    "                formatted_data.append({\n",
    "                    \"Company\": company_name,\n",
    "                    \"Corporate_Action\": corporate_action,\n",
    "                    \"Date_Announcement\": announcement_date,\n",
    "                    \"Source\": row['Link'],\n",
    "                    \"Headline\": row['Headline'],\n",
    "                    \"Extracted_Information\": detail_response[0].text,\n",
    "                    \"Insertion_Date_Time\": current_datetime,\n",
    "                    \"Modified_Date_Time\": current_datetime\n",
    "                })\n",
    "    \n",
    "    return formatted_data\n",
    "\n",
    "# Assuming df is your input dataframe\n",
    "# df = pd.read_csv('your_dataframe.csv')  # Example loading\n",
    "\n",
    "\n"
   ]
  },
  {
   "cell_type": "code",
   "execution_count": 17,
   "metadata": {},
   "outputs": [
    {
     "data": {
      "text/html": [
       "<div>\n",
       "<style scoped>\n",
       "    .dataframe tbody tr th:only-of-type {\n",
       "        vertical-align: middle;\n",
       "    }\n",
       "\n",
       "    .dataframe tbody tr th {\n",
       "        vertical-align: top;\n",
       "    }\n",
       "\n",
       "    .dataframe thead th {\n",
       "        text-align: right;\n",
       "    }\n",
       "</style>\n",
       "<table border=\"1\" class=\"dataframe\">\n",
       "  <thead>\n",
       "    <tr style=\"text-align: right;\">\n",
       "      <th></th>\n",
       "      <th>Date</th>\n",
       "      <th>Headline</th>\n",
       "      <th>Link</th>\n",
       "      <th>Article_Content</th>\n",
       "    </tr>\n",
       "  </thead>\n",
       "  <tbody>\n",
       "    <tr>\n",
       "      <th>0</th>\n",
       "      <td>Feb 05, 2025</td>\n",
       "      <td>Equity Corporate Actions Alert #2025-49 - Info...</td>\n",
       "      <td>https://www.nasdaqtrader.com/TraderNews.aspx?i...</td>\n",
       "      <td>The tender offer by Crown Laboratories, Inc. t...</td>\n",
       "    </tr>\n",
       "  </tbody>\n",
       "</table>\n",
       "</div>"
      ],
      "text/plain": [
       "           Date                                           Headline  \\\n",
       "0  Feb 05, 2025  Equity Corporate Actions Alert #2025-49 - Info...   \n",
       "\n",
       "                                                Link  \\\n",
       "0  https://www.nasdaqtrader.com/TraderNews.aspx?i...   \n",
       "\n",
       "                                     Article_Content  \n",
       "0  The tender offer by Crown Laboratories, Inc. t...  "
      ]
     },
     "execution_count": 17,
     "metadata": {},
     "output_type": "execute_result"
    }
   ],
   "source": [
    "k"
   ]
  },
  {
   "cell_type": "code",
   "execution_count": 18,
   "metadata": {},
   "outputs": [
    {
     "name": "stdout",
     "output_type": "stream",
     "text": [
      "Mergers\n"
     ]
    }
   ],
   "source": [
    "formatted_result = process_corporate_actions_from_df(k)"
   ]
  },
  {
   "cell_type": "code",
   "execution_count": 2,
   "metadata": {},
   "outputs": [
    {
     "name": "stderr",
     "output_type": "stream",
     "text": [
      "c:\\Users\\hackathon\\DTCC_Sourcing\\sourcing_selenium_BeautifulSoup.py:111: SettingWithCopyWarning: \n",
      "A value is trying to be set on a copy of a slice from a DataFrame.\n",
      "Try using .loc[row_indexer,col_indexer] = value instead\n",
      "\n",
      "See the caveats in the documentation: https://pandas.pydata.org/pandas-docs/stable/user_guide/indexing.html#returning-a-view-versus-a-copy\n",
      "  df[\"Article_Content\"] = df[\"Link\"].apply(lambda url: scrape_article_content(url) if pd.notna(url) and url.startswith(\"http\") else \"\")\n"
     ]
    },
    {
     "name": "stdout",
     "output_type": "stream",
     "text": [
      "Data saved to nasdaq_corporate_actions_with_Article_content.csv\n",
      "           Date                                           Headline  \\\n",
      "0  Feb 05, 2025  Equity Corporate Actions Alert #2025-49 - Info...   \n",
      "\n",
      "                                                Link  \\\n",
      "0  https://www.nasdaqtrader.com/TraderNews.aspx?i...   \n",
      "\n",
      "                                     Article_Content  \n",
      "0  The tender offer by Crown Laboratories, Inc. t...  \n",
      "[{'Company': 'Revance Therapeutics, Inc.', 'Corporate_Action': 'Mergers', 'Date_Announcement': '2025-02-05', 'Source': 'https://www.nasdaqtrader.com/TraderNews.aspx?id=ECA2025-49', 'Headline': 'Equity Corporate Actions Alert #2025-49 - Information Regarding the Tender Offer of Revance Therapeutics, Inc. (RVNC)', 'Extracted_Information': 'Company_Name: Revance Therapeutics, Inc.\\nCompany_Symbol: RVNC\\nValue_Date: Feb 05, 2025\\nCustodian_ID: \\nAccount_Number: \\nSettlement_Amount: 3.65\\nCurrency: USD\\nTax_Details: \\nEligibility: \\nDebit_Security_Details: 761330109\\nRemarks: Tender offer by Crown Laboratories, Inc. to acquire all outstanding common stock\\nEx-Date: \\nCredit_New_Security_Asset_ID: \\nStock_Merger_Ratio: \\nDividend_Ratio:', 'Insertion_Date_Time': '2025-02-05 16:41:23', 'Modified_Date_Time': '2025-02-05 16:41:23'}]\n"
     ]
    }
   ],
   "source": [
    "from Nasdaq_Trader_Source import process_corporate_actions\n",
    "\n",
    "data = process_corporate_actions()\n",
    "print(data)\n"
   ]
  },
  {
   "cell_type": "code",
   "execution_count": 3,
   "metadata": {},
   "outputs": [
    {
     "data": {
      "text/plain": [
       "[{'Company': 'Revance Therapeutics, Inc.',\n",
       "  'Corporate_Action': 'Mergers',\n",
       "  'Date_Announcement': '2025-02-05',\n",
       "  'Source': 'https://www.nasdaqtrader.com/TraderNews.aspx?id=ECA2025-49',\n",
       "  'Headline': 'Equity Corporate Actions Alert #2025-49 - Information Regarding the Tender Offer of Revance Therapeutics, Inc. (RVNC)',\n",
       "  'Extracted_Information': 'Company_Name: Revance Therapeutics, Inc.\\nCompany_Symbol: RVNC\\nValue_Date: Feb 05, 2025\\nCustodian_ID: \\nAccount_Number: \\nSettlement_Amount: 3.65\\nCurrency: USD\\nTax_Details: \\nEligibility: \\nDebit_Security_Details: 761330109\\nRemarks: Tender offer by Crown Laboratories, Inc. to acquire all outstanding common stock\\nEx-Date: \\nCredit_New_Security_Asset_ID: \\nStock_Merger_Ratio: \\nDividend_Ratio:',\n",
       "  'Insertion_Date_Time': '2025-02-05 16:41:23',\n",
       "  'Modified_Date_Time': '2025-02-05 16:41:23'}]"
      ]
     },
     "execution_count": 3,
     "metadata": {},
     "output_type": "execute_result"
    }
   ],
   "source": [
    "data"
   ]
  },
  {
   "cell_type": "code",
   "execution_count": 4,
   "metadata": {},
   "outputs": [
    {
     "name": "stdout",
     "output_type": "stream",
     "text": [
      "Status Code: 200, Response: {'message': \"New record inserted with status 'Not Verified'\"}\n"
     ]
    }
   ],
   "source": [
    "import requests\n",
    "\n",
    "# Define the API endpoint\n",
    "url = \"http://74.249.184.110:8000/insert-corporate-action/\"\n",
    "\n",
    "# Select the first 3 elements\n",
    "first_three_records = data\n",
    "\n",
    "# Loop through the first three elements and send POST requests\n",
    "for record in first_three_records:\n",
    "    response = requests.post(url, json=record)\n",
    "    print(f\"Status Code: {response.status_code}, Response: {response.json()}\")"
   ]
  },
  {
   "cell_type": "code",
   "execution_count": null,
   "metadata": {},
   "outputs": [],
   "source": []
  }
 ],
 "metadata": {
  "kernelspec": {
   "display_name": ".venv",
   "language": "python",
   "name": "python3"
  },
  "language_info": {
   "codemirror_mode": {
    "name": "ipython",
    "version": 3
   },
   "file_extension": ".py",
   "mimetype": "text/x-python",
   "name": "python",
   "nbconvert_exporter": "python",
   "pygments_lexer": "ipython3",
   "version": "3.10.0"
  }
 },
 "nbformat": 4,
 "nbformat_minor": 2
}
