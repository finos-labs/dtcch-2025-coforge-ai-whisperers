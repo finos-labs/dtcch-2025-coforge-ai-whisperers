{
 "cells": [
  {
   "cell_type": "code",
   "execution_count": 1,
   "metadata": {},
   "outputs": [],
   "source": [
    "from CORPORATE_ACTIONS_PDFS_Source import Corporate_actions_formatted_data"
   ]
  },
  {
   "cell_type": "code",
   "execution_count": 2,
   "metadata": {},
   "outputs": [],
   "source": [
    "k=Corporate_actions_formatted_data()"
   ]
  },
  {
   "cell_type": "code",
   "execution_count": 17,
   "metadata": {},
   "outputs": [
    {
     "data": {
      "text/plain": [
       "3"
      ]
     },
     "execution_count": 17,
     "metadata": {},
     "output_type": "execute_result"
    }
   ],
   "source": [
    "len(k)"
   ]
  },
  {
   "cell_type": "code",
   "execution_count": 5,
   "metadata": {},
   "outputs": [
    {
     "data": {
      "text/plain": [
       "{'Company': 'Berkshire Hills Bancorp, Inc. and Brookline Bancorp, Inc.',\n",
       " 'Corporate_Action': 'Mergers',\n",
       " 'Date_Announcement': 'Unknown',\n",
       " 'Source': 'BHLB-BRKL-Merger-News-Release-December-16-2024-ir.pdf',\n",
       " 'Extracted_Information': 'Company_Name: Berkshire Hills Bancorp, Inc. and Brookline Bancorp, Inc.\\nCompany_Symbol: BHLB, BRKL\\nValue_Date: December 16, 2024\\nCustodian_ID: \\nAccount_Number: \\nSettlement_Amount: $1.1 billion\\nCurrency: USD\\nTax_Details: \\nEligibility: \\nDebit_Security_Details: \\nRemarks: \\nEx-Date: \\nCredit_New_Security_Asset_ID: \\nStock_Merger_Ratio: 0.42\\nDividend_Ratio:',\n",
       " 'Insertion_Date_Time': '2025-02-05 10:08:43',\n",
       " 'Modified_Date_Time': '2025-02-05 10:08:43'}"
      ]
     },
     "execution_count": 5,
     "metadata": {},
     "output_type": "execute_result"
    }
   ],
   "source": [
    "k[3]"
   ]
  },
  {
   "cell_type": "code",
   "execution_count": 6,
   "metadata": {},
   "outputs": [
    {
     "data": {
      "text/plain": [
       "{'Company': 'United Community Banks, Inc.',\n",
       " 'Corporate_Action': 'Mergers',\n",
       " 'Date_Announcement': 'Unknown',\n",
       " 'Source': 'United Community Banks, Inc. and ANB Holdings, Inc., the Parent of American National Bank, Announce Merger Agreement.pdf',\n",
       " 'Extracted_Information': 'Company_Name: United Community Banks, Inc.\\nCompany_Symbol: UCB\\nValue_Date: December 3, 2024\\nSettlement_Amount: 80000000\\nCurrency: USD\\nStock_Merger_Ratio: 1.650',\n",
       " 'Insertion_Date_Time': '2025-02-05 10:08:43',\n",
       " 'Modified_Date_Time': '2025-02-05 10:08:43'}"
      ]
     },
     "execution_count": 6,
     "metadata": {},
     "output_type": "execute_result"
    }
   ],
   "source": [
    "k[7]"
   ]
  },
  {
   "cell_type": "code",
   "execution_count": 7,
   "metadata": {},
   "outputs": [
    {
     "data": {
      "text/plain": [
       "{'Company': 'Tonix Pharmaceuticals Holding Corp.',\n",
       " 'Corporate_Action': 'Reverse Split',\n",
       " 'Date_Announcement': 'February 3, 2025',\n",
       " 'Source': '2025-02-03_Tonix_Pharmaceuticals_Announces_1_for_100_Reverse__1545.pdf',\n",
       " 'Extracted_Information': 'Company_Name: Tonix Pharmaceuticals Holding Corp.\\nCompany_Symbol: TNXP\\nValue_Date: February 5, 2025\\nCustodian_ID: \\nAccount_Number: \\nSettlement_Amount: \\nCurrency: \\nTax_Details: \\nEligibility: \\nDebit_Security_Details: \\nRemarks: \\nReverse_Split_Ratio: 1:100\\nEx-Date: February 5, 2025\\nRecord_Date: \\nAnnouncement_Date: February 3, 2025\\nAdjusted_Share_Price_and_Quantity: \\nAdjustment_Factor: \\nCredit_New_Security_Asset_ID: 890260839',\n",
       " 'Insertion_Date_Time': '2025-02-05 10:08:43',\n",
       " 'Modified_Date_Time': '2025-02-05 10:08:43'}"
      ]
     },
     "execution_count": 7,
     "metadata": {},
     "output_type": "execute_result"
    }
   ],
   "source": [
    "k[0]"
   ]
  },
  {
   "cell_type": "code",
   "execution_count": 1,
   "metadata": {},
   "outputs": [],
   "source": [
    "\n",
    "from Bussiness_Wire_Source import fetch_and_process_corporate_actions"
   ]
  },
  {
   "cell_type": "code",
   "execution_count": 2,
   "metadata": {},
   "outputs": [
    {
     "name": "stdout",
     "output_type": "stream",
     "text": [
      "Starting the article scraping process...\n",
      "Scraping page: https://www.businesswire.com/portal/site/home/news/\n",
      "Scraping page: https://www.businesswire.com/portal/site/home/template.PAGE/news/?javax.portlet.tpst=ccf123a93466ea4c882a06a9149550fd&javax.portlet.prp_ccf123a93466ea4c882a06a9149550fd_viewID=MY_PORTAL_VIEW&javax.portlet.prp_ccf123a93466ea4c882a06a9149550fd_ndmHsc=v2*A1736168400000*B1738759139892*DgroupByDate*G2*N1000003&javax.portlet.begCacheTok=com.vignette.cachetoken&javax.portlet.endCacheTok=com.vignette.cachetoken\n",
      "Scraping page: https://www.businesswire.com/portal/site/home/template.PAGE/news/?javax.portlet.tpst=ccf123a93466ea4c882a06a9149550fd&javax.portlet.prp_ccf123a93466ea4c882a06a9149550fd_viewID=MY_PORTAL_VIEW&javax.portlet.prp_ccf123a93466ea4c882a06a9149550fd_ndmHsc=v2*A1736168400000*B1738759157359*DgroupByDate*G3*N1000003&javax.portlet.begCacheTok=com.vignette.cachetoken&javax.portlet.endCacheTok=com.vignette.cachetoken\n",
      "Scraping page: https://www.businesswire.com/portal/site/home/template.PAGE/news/?javax.portlet.tpst=ccf123a93466ea4c882a06a9149550fd&javax.portlet.prp_ccf123a93466ea4c882a06a9149550fd_viewID=MY_PORTAL_VIEW&javax.portlet.prp_ccf123a93466ea4c882a06a9149550fd_ndmHsc=v2*A1736168400000*B1738759164414*DgroupByDate*G4*N1000003&javax.portlet.begCacheTok=com.vignette.cachetoken&javax.portlet.endCacheTok=com.vignette.cachetoken\n",
      "Scraping page: https://www.businesswire.com/portal/site/home/template.PAGE/news/?javax.portlet.tpst=ccf123a93466ea4c882a06a9149550fd&javax.portlet.prp_ccf123a93466ea4c882a06a9149550fd_viewID=MY_PORTAL_VIEW&javax.portlet.prp_ccf123a93466ea4c882a06a9149550fd_ndmHsc=v2*A1736168400000*B1738759171350*DgroupByDate*G5*N1000003&javax.portlet.begCacheTok=com.vignette.cachetoken&javax.portlet.endCacheTok=com.vignette.cachetoken\n",
      "Stopping scraping as the latest article is older than 15 minutes.\n",
      "Fetching article contents...\n",
      "Processing corporate actions...\n"
     ]
    }
   ],
   "source": [
    "k=fetch_and_process_corporate_actions()"
   ]
  },
  {
   "cell_type": "code",
   "execution_count": 3,
   "metadata": {},
   "outputs": [
    {
     "data": {
      "text/plain": [
       "'2025-02-05 12:40:04'"
      ]
     },
     "execution_count": 3,
     "metadata": {},
     "output_type": "execute_result"
    }
   ],
   "source": [
    "k[0]['Date_Announcement']"
   ]
  },
  {
   "cell_type": "code",
   "execution_count": 4,
   "metadata": {},
   "outputs": [
    {
     "data": {
      "text/plain": [
       "{'Company': 'Griffon Corporation',\n",
       " 'Corporate_Action': 'Cash Dividend Regular',\n",
       " 'Date_Announcement': '2025-02-05 12:40:04',\n",
       " 'Source': 'https://www.businesswire.com/news/home/20250204831282/en/Griffon-Corporation-Announces-First-Quarter-Results',\n",
       " 'Extracted_Information': 'Company_Name: Griffon Corporation\\nCompany_Symbol: GFF\\nDividend_Amount_per_Share: $0.18\\nCurrency: USD\\nPayment_Date: February 5, 2025\\n\\nAll other requested fields are empty as they are not provided in the financial record.',\n",
       " 'Insertion_Date_Time': '2025-02-05 12:40:04',\n",
       " 'Modified_Date_Time': '2025-02-05 12:40:04'}"
      ]
     },
     "execution_count": 4,
     "metadata": {},
     "output_type": "execute_result"
    }
   ],
   "source": [
    "k[0]"
   ]
  },
  {
   "cell_type": "code",
   "execution_count": 5,
   "metadata": {},
   "outputs": [
    {
     "data": {
      "text/plain": [
       "{'Company': 'Griffon Corporation',\n",
       " 'Corporate_Action': 'Cash Dividend Regular',\n",
       " 'Date_Announcement': '2025-02-05 12:40:17',\n",
       " 'Source': 'https://www.businesswire.com/news/home/20250204592037/en/Griffon-Corporation-Declares-Quarterly-Dividend',\n",
       " 'Extracted_Information': 'Company_Name: Griffon Corporation\\nCompany_Symbol: GFF\\nValue_Date: \\nCustodian_ID: \\nAccount_Number: \\nSettlement_Amount: \\nCurrency: \\nTax_Details: \\nEligibility: \\nDebit_Security_Details: \\nRemarks: \\nDividend_Amount_per_Share: 0.18\\nEx-Date: \\nRecord_Date: February 25, 2025\\nAnnouncement_Date: \\nPayment_Date: March 18, 2025\\nSedol: \\nCurrency: USD\\nDividend_Rate: 0.18',\n",
       " 'Insertion_Date_Time': '2025-02-05 12:40:04',\n",
       " 'Modified_Date_Time': '2025-02-05 12:40:04'}"
      ]
     },
     "execution_count": 5,
     "metadata": {},
     "output_type": "execute_result"
    }
   ],
   "source": [
    "k[1]"
   ]
  },
  {
   "cell_type": "code",
   "execution_count": 6,
   "metadata": {},
   "outputs": [
    {
     "name": "stdout",
     "output_type": "stream",
     "text": [
      "Status Code: 200, Response: {'message': \"New record inserted with status 'Not Verified'\"}\n",
      "Status Code: 200, Response: {'message': \"New record inserted with status 'Not Verified'\"}\n",
      "Status Code: 200, Response: {'message': \"New record inserted with status 'Not Verified'\"}\n",
      "Status Code: 200, Response: {'message': \"New record inserted with status 'Not Verified'\"}\n",
      "Status Code: 200, Response: {'message': \"New record inserted with status 'Not Verified'\"}\n",
      "Status Code: 200, Response: {'message': \"New record inserted with status 'Not Verified'\"}\n",
      "Status Code: 200, Response: {'message': \"New record inserted with status 'Not Verified'\"}\n",
      "Status Code: 200, Response: {'message': \"New record inserted with status 'Not Verified'\"}\n",
      "Status Code: 200, Response: {'message': \"New record inserted with status 'Not Verified'\"}\n",
      "Status Code: 200, Response: {'message': \"New record inserted with status 'Not Verified'\"}\n",
      "Status Code: 200, Response: {'message': \"New record inserted with status 'Not Verified'\"}\n",
      "Status Code: 200, Response: {'message': \"New record inserted with status 'Not Verified'\"}\n",
      "Status Code: 200, Response: {'message': \"New record inserted with status 'Not Verified'\"}\n",
      "Status Code: 200, Response: {'message': \"New record inserted with status 'Not Verified'\"}\n",
      "Status Code: 200, Response: {'message': \"New record inserted with status 'Not Verified'\"}\n",
      "Status Code: 200, Response: {'message': \"New record inserted with status 'Not Verified'\"}\n",
      "Status Code: 200, Response: {'message': \"New record inserted with status 'Not Verified'\"}\n"
     ]
    }
   ],
   "source": [
    "import requests\n",
    "\n",
    "# Define the API endpoint\n",
    "url = \"http://74.249.184.110:8000/insert-corporate-action/\"\n",
    "\n",
    "# Select the first 3 elements\n",
    "first_three_records = k\n",
    "\n",
    "# Loop through the first three elements and send POST requests\n",
    "for record in first_three_records:\n",
    "    response = requests.post(url, json=record)\n",
    "    print(f\"Status Code: {response.status_code}, Response: {response.json()}\")"
   ]
  },
  {
   "cell_type": "code",
   "execution_count": 9,
   "metadata": {},
   "outputs": [],
   "source": [
    "p=k[0]['Date_Announcement']"
   ]
  },
  {
   "cell_type": "code",
   "execution_count": 11,
   "metadata": {},
   "outputs": [],
   "source": [
    "announcement_date=p"
   ]
  },
  {
   "cell_type": "code",
   "execution_count": 13,
   "metadata": {},
   "outputs": [],
   "source": [
    "from datetime import datetime"
   ]
  },
  {
   "cell_type": "code",
   "execution_count": 14,
   "metadata": {},
   "outputs": [],
   "source": [
    "r=announcement_date if announcement_date else datetime.now().strftime(\"%Y-%m-%d %H:%M:%S\")"
   ]
  },
  {
   "cell_type": "code",
   "execution_count": 15,
   "metadata": {},
   "outputs": [
    {
     "data": {
      "text/plain": [
       "'2025-02-05 11:54:38'"
      ]
     },
     "execution_count": 15,
     "metadata": {},
     "output_type": "execute_result"
    }
   ],
   "source": [
    "r"
   ]
  },
  {
   "cell_type": "code",
   "execution_count": 1,
   "metadata": {},
   "outputs": [
    {
     "ename": "ImportError",
     "evalue": "cannot import name 'get_formatted_financial_data' from 'PR_News_Source' (c:\\Users\\hackathon\\DTCC_Sourcing\\PR_News_Source.py)",
     "output_type": "error",
     "traceback": [
      "\u001b[1;31m---------------------------------------------------------------------------\u001b[0m",
      "\u001b[1;31mImportError\u001b[0m                               Traceback (most recent call last)",
      "Cell \u001b[1;32mIn[1], line 1\u001b[0m\n\u001b[1;32m----> 1\u001b[0m \u001b[38;5;28;01mfrom\u001b[39;00m\u001b[38;5;250m \u001b[39m\u001b[38;5;21;01mPR_News_Source\u001b[39;00m\u001b[38;5;250m \u001b[39m\u001b[38;5;28;01mimport\u001b[39;00m get_formatted_financial_data\n\u001b[0;32m      3\u001b[0m formatted_data \u001b[38;5;241m=\u001b[39m get_formatted_financial_data()\n",
      "\u001b[1;31mImportError\u001b[0m: cannot import name 'get_formatted_financial_data' from 'PR_News_Source' (c:\\Users\\hackathon\\DTCC_Sourcing\\PR_News_Source.py)"
     ]
    }
   ],
   "source": [
    "from PR_News_Source import get_formatted_financial_data\n",
    "\n",
    "formatted_data = get_formatted_financial_data()"
   ]
  },
  {
   "cell_type": "code",
   "execution_count": 2,
   "metadata": {},
   "outputs": [
    {
     "data": {
      "text/plain": [
       "[{'Company': 'Hub International Limited',\n",
       "  'Corporate_Action': 'Mergers',\n",
       "  'Date_Announcement': '2025-02-05 18:31:00',\n",
       "  'Source': 'https://www.prnewswire.com/news-releases/hub-international-expands-commercial-and-personal-insurance-capabilities-with-acquisition-of-lindenwood-agency-inc-in-st-louis-missouri-302368293.html',\n",
       "  'Extracted_Information': 'Company_Name: Hub International Limited\\nCompany_Symbol:\\nValue_Date: 2025-02-05\\nCustodian_ID:\\nAccount_Number:\\nSettlement_Amount:\\nCurrency:\\nTax_Details:\\nEligibility:\\nDebit_Security_Details:\\nRemarks:\\nEx-Date:\\nCredit_New_Security_Asset_ID:\\nStock_Merger_Ratio:\\nDividend_Ratio:',\n",
       "  'Insertion_Date_Time': '2025-02-05 13:28:33',\n",
       "  'Modified_Date_Time': '2025-02-05 13:28:33'}]"
      ]
     },
     "execution_count": 2,
     "metadata": {},
     "output_type": "execute_result"
    }
   ],
   "source": [
    "pr_results"
   ]
  },
  {
   "cell_type": "code",
   "execution_count": 3,
   "metadata": {},
   "outputs": [
    {
     "name": "stdout",
     "output_type": "stream",
     "text": [
      "Status Code: 200, Response: {'message': \"New record inserted with status 'Not Verified'\"}\n"
     ]
    }
   ],
   "source": [
    "import requests\n",
    "\n",
    "# Define the API endpoint\n",
    "url = \"http://74.249.184.110:8000/insert-corporate-action/\"\n",
    "\n",
    "# Select the first 3 elements\n",
    "first_three_records = pr_results\n",
    "\n",
    "# Loop through the first three elements and send POST requests\n",
    "for record in first_three_records:\n",
    "    response = requests.post(url, json=record)\n",
    "    print(f\"Status Code: {response.status_code}, Response: {response.json()}\")"
   ]
  },
  {
   "cell_type": "code",
   "execution_count": 6,
   "metadata": {},
   "outputs": [
    {
     "name": "stdout",
     "output_type": "stream",
     "text": [
      "Company_Name: Hub International Limited\n",
      "Company_Symbol:\n",
      "Value_Date: 2025-02-05\n",
      "Custodian_ID:\n",
      "Account_Number:\n",
      "Settlement_Amount:\n",
      "Currency:\n",
      "Tax_Details:\n",
      "Eligibility:\n",
      "Debit_Security_Details:\n",
      "Remarks:\n",
      "Ex-Date:\n",
      "Credit_New_Security_Asset_ID:\n",
      "Stock_Merger_Ratio:\n",
      "Dividend_Ratio:\n"
     ]
    }
   ],
   "source": [
    "print(pr_results[0]['Extracted_Information'])"
   ]
  },
  {
   "cell_type": "code",
   "execution_count": 1,
   "metadata": {},
   "outputs": [],
   "source": [
    "from FINRA_Source import process_finra_data"
   ]
  },
  {
   "cell_type": "code",
   "execution_count": null,
   "metadata": {},
   "outputs": [],
   "source": []
  },
  {
   "cell_type": "code",
   "execution_count": 1,
   "metadata": {},
   "outputs": [
    {
     "name": "stdout",
     "output_type": "stream",
     "text": [
      "    dailyListDatetime           dailyListReasonDescription newSymbolCode oldSymbolCode  ... ADRNetRate ADRIssuanceFeeAmount ADRWitholdingTaxPercentage qualifiedDividendDescription\n",
      "0 2025-02-05 09:46:55                         CUSIP Change         ZNOGW         ZNOGW  ...        NaN                  NaN                        NaN                          NaN\n",
      "1 2025-02-05 08:56:36                             Addition           NaN         PNDRY  ...        NaN                  NaN                        NaN                          NaN\n",
      "2 2025-02-05 08:56:30  Sponsored to Unsponsored Conversion           NaN         PANDY  ...        NaN                  NaN                        NaN                          NaN\n",
      "3 2025-02-05 08:11:23                Cash Dividend Regular         OKASY         OKASY  ...        NaN                  NaN                        NaN                          NaN\n",
      "4 2025-02-05 08:10:04                Cash Dividend Regular         HTSUY         HTSUY  ...        NaN                  NaN                        NaN                          NaN\n",
      "5 2025-02-05 08:08:27                Cash Dividend Regular         FRCOY         FRCOY  ...        NaN                  NaN                        NaN                          NaN\n",
      "6 2025-02-05 08:06:32                Cash Dividend Regular         AONNY         AONNY  ...        NaN                  NaN                        NaN                          NaN\n",
      "\n",
      "[7 rows x 42 columns]\n",
      "Skipping record with unknown event type: CUSIP Change\n",
      "Skipping record with unknown event type: Addition\n",
      "Skipping record with unknown event type: Sponsored to Unsponsored Conversion\n"
     ]
    }
   ],
   "source": [
    "from FINRA_Source import get_formatted_financial_data\n",
    "\n",
    "formatted_data = get_formatted_financial_data()"
   ]
  },
  {
   "cell_type": "code",
   "execution_count": 2,
   "metadata": {},
   "outputs": [
    {
     "data": {
      "text/plain": [
       "[{'Company': 'Onward Holdings Co., Ltd. Unponsored ADR (Japan)',\n",
       "  'Corporate_Action': 'Cash Dividend Regular',\n",
       "  'Date_Announcement': '2025-02-05 08:11:23',\n",
       "  'Source': 'FINRA',\n",
       "  'Extracted_Information': 'Company_Name: Onward Holdings Co., Ltd. Unponsored ADR (Japan)\\nCompany_Symbol: OKASY\\nValue_Date:\\nCustodian_ID:\\nAccount_Number:\\nSettlement_Amount:\\nCurrency:\\nTax_Details:\\nEligibility:\\nDebit_Security_Details:\\nRemarks: Amount & Pay Date TBA. NOTE: Citibank as Depositary for this issue has set a US record date of 02/28/2025 in the event that the Company announces a dividend at the annual shareholders meeting.\\nDividend_Amount_per_Share:\\nEx-Date:\\nRecord_Date: 2025-02-28\\nAnnouncement_Date:\\nPayment_Date:\\nSedol:\\nCurrency:\\nDividend_Rate:',\n",
       "  'Insertion_Date_Time': '2025-02-05T15:16:26.003408',\n",
       "  'Modified_Date_Time': '2025-02-05T15:16:26.003408'},\n",
       " {'Company': 'Hisamitsu Pharmaceutical Co Inc American Depositary Receipts - Unsponsored (Japan)',\n",
       "  'Corporate_Action': 'Cash Dividend Regular',\n",
       "  'Date_Announcement': '2025-02-05 08:10:04',\n",
       "  'Source': 'FINRA',\n",
       "  'Extracted_Information': 'Company_Name: Hisamitsu Pharmaceutical Co Inc\\nCompany_Symbol: HTSUY\\nValue_Date:\\nCustodian_ID:\\nAccount_Number:\\nSettlement_Amount:\\nCurrency:\\nTax_Details:\\nEligibility:\\nDebit_Security_Details:\\nRemarks: (APX) Amount & Pay Date TBA. NOTE: Citibank as Depositary for this issue has set a US record date of 02/28/2025 in the event that the Company announces a dividend at the annual shareholders meeting. Since the dividend amount (if any) and declaration of this dividend by the Company is subject to shareholders\\' approval, this issue will not be quoted \"ex dividend\".\\nDividend_Amount_per_Share:\\nEx-Date:\\nRecord_Date: 2025-02-28\\nAnnouncement_Date:\\nPayment_Date:\\nSedol',\n",
       "  'Insertion_Date_Time': '2025-02-05T15:16:26.003408',\n",
       "  'Modified_Date_Time': '2025-02-05T15:16:26.003408'},\n",
       " {'Company': 'Fast Retailing Co Ltd Unsponsored ADR (Japan)',\n",
       "  'Corporate_Action': 'Cash Dividend Regular',\n",
       "  'Date_Announcement': '2025-02-05 08:08:27',\n",
       "  'Source': 'FINRA',\n",
       "  'Extracted_Information': 'Company_Name: Fast Retailing Co Ltd Unsponsored ADR (Japan)\\nCompany_Symbol: FRCOY\\nValue_Date: \\nCustodian_ID: \\nAccount_Number: \\nSettlement_Amount: \\nCurrency: \\nTax_Details: \\nEligibility: \\nDebit_Security_Details: \\nRemarks: (APX) Amount & Pay Date TBA. NOTE: Citibank as Depositary for this issue has set a US record date of 02/28/2025 in the event that the Company announces a dividend at the annual shareholders meeting. Since the dividend amount (if any) and declaration of this dividend by the Company is subject to shareholders\\' approval, this issue will not be quoted \"ex dividend\". Members are reminded of their obligations under FINRA Rule 3220 (b) with respect to open orders.\\nDividen',\n",
       "  'Insertion_Date_Time': '2025-02-05T15:16:26.003408',\n",
       "  'Modified_Date_Time': '2025-02-05T15:16:26.003408'},\n",
       " {'Company': 'Aeon Co Ltd American Depositary Shares',\n",
       "  'Corporate_Action': 'Cash Dividend Regular',\n",
       "  'Date_Announcement': '2025-02-05 08:06:32',\n",
       "  'Source': 'FINRA',\n",
       "  'Extracted_Information': 'Company_Name: Aeon Co Ltd American Depositary Shares\\nCompany_Symbol: AONNY\\nValue_Date:\\nCustodian_ID:\\nAccount_Number:\\nSettlement_Amount:\\nCurrency:\\nTax_Details:\\nEligibility:\\nDebit_Security_Details:\\nRemarks: Amount & Pay Date TBA. NOTE: Citibank as Depositary for this issue has set a US record date of 02/28/2025 in the event that the Company announces a dividend at the annual shareholders meeting.\\nDividend_Amount_per_Share:\\nEx-Date:\\nRecord_Date: 2025-02-28\\nAnnouncement_Date: 2025-02-05\\nPayment_Date:\\nSedol:\\nCurrency:\\nDividend_Rate:',\n",
       "  'Insertion_Date_Time': '2025-02-05T15:16:26.003408',\n",
       "  'Modified_Date_Time': '2025-02-05T15:16:26.003408'}]"
      ]
     },
     "execution_count": 2,
     "metadata": {},
     "output_type": "execute_result"
    }
   ],
   "source": [
    "formatted_data"
   ]
  },
  {
   "cell_type": "code",
   "execution_count": 3,
   "metadata": {},
   "outputs": [
    {
     "name": "stdout",
     "output_type": "stream",
     "text": [
      "Status Code: 200, Response: {'message': \"New record inserted with status 'Not Verified'\"}\n",
      "Status Code: 200, Response: {'message': \"New record inserted with status 'Not Verified'\"}\n",
      "Status Code: 200, Response: {'message': \"New record inserted with status 'Not Verified'\"}\n",
      "Status Code: 200, Response: {'message': \"New record inserted with status 'Not Verified'\"}\n"
     ]
    }
   ],
   "source": [
    "import requests\n",
    "\n",
    "# Define the API endpoint\n",
    "url = \"http://74.249.184.110:8000/insert-corporate-action/\"\n",
    "\n",
    "# Select the first 3 elements\n",
    "first_three_records = formatted_data\n",
    "\n",
    "# Loop through the first three elements and send POST requests\n",
    "for record in first_three_records:\n",
    "    response = requests.post(url, json=record)\n",
    "    print(f\"Status Code: {response.status_code}, Response: {response.json()}\")"
   ]
  },
  {
   "cell_type": "code",
   "execution_count": null,
   "metadata": {},
   "outputs": [],
   "source": []
  }
 ],
 "metadata": {
  "kernelspec": {
   "display_name": ".venv",
   "language": "python",
   "name": "python3"
  },
  "language_info": {
   "codemirror_mode": {
    "name": "ipython",
    "version": 3
   },
   "file_extension": ".py",
   "mimetype": "text/x-python",
   "name": "python",
   "nbconvert_exporter": "python",
   "pygments_lexer": "ipython3",
   "version": "3.10.0"
  }
 },
 "nbformat": 4,
 "nbformat_minor": 2
}
