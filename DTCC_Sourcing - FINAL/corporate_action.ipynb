{
 "cells": [
  {
   "cell_type": "code",
   "execution_count": 1,
   "metadata": {},
   "outputs": [],
   "source": [
    "from CORPORATE_ACTIONS_PDFS_Source import Corporate_actions_formatted_data"
   ]
  },
  {
   "cell_type": "code",
   "execution_count": 2,
   "metadata": {},
   "outputs": [],
   "source": [
    "k=Corporate_actions_formatted_data()"
   ]
  },
  {
   "cell_type": "code",
   "execution_count": 3,
   "metadata": {},
   "outputs": [
    {
     "data": {
      "text/plain": [
       "4"
      ]
     },
     "execution_count": 3,
     "metadata": {},
     "output_type": "execute_result"
    }
   ],
   "source": [
    "len(k)"
   ]
  },
  {
   "cell_type": "code",
   "execution_count": 4,
   "metadata": {},
   "outputs": [
    {
     "data": {
      "text/plain": [
       "{'Company': 'Berkshire Hills Bancorp, Inc. and Brookline Bancorp, Inc.',\n",
       " 'Corporate_Action': 'Mergers',\n",
       " 'Date_Announcement': '2025-02-06',\n",
       " 'Source': 'BHLB-BRKL-Merger-News-Release-December-16-2024-ir.pdf',\n",
       " 'Extracted_Information': 'Company_Name: Berkshire Hills Bancorp, Inc. and Brookline Bancorp, Inc.\\nCompany_Symbol: BHLB, BRKL\\nValue_Date: December 16, 2024\\nCustodian_ID: \\nAccount_Number: \\nSettlement_Amount: $1.1 billion\\nCurrency: USD\\nTax_Details: \\nEligibility: \\nDebit_Security_Details: \\nRemarks: \\nEx-Date: \\nCredit_New_Security_Asset_ID: \\nStock_Merger_Ratio: 0.42\\nDividend_Ratio:',\n",
       " 'Insertion_Date_Time': '2025-02-06 05:05:09',\n",
       " 'Modified_Date_Time': '2025-02-06 05:05:09'}"
      ]
     },
     "execution_count": 4,
     "metadata": {},
     "output_type": "execute_result"
    }
   ],
   "source": [
    "k[3]"
   ]
  },
  {
   "cell_type": "code",
   "execution_count": 8,
   "metadata": {},
   "outputs": [
    {
     "name": "stdout",
     "output_type": "stream",
     "text": [
      "Status Code: 200, Response: {'message': \"New record inserted with status 'Not Verified'\"}\n",
      "Status Code: 200, Response: {'message': \"New record inserted with status 'Not Verified'\"}\n",
      "Status Code: 200, Response: {'message': \"New record inserted with status 'Not Verified'\"}\n",
      "Status Code: 200, Response: {'message': \"New record inserted with status 'Not Verified'\"}\n"
     ]
    }
   ],
   "source": [
    "import requests\n",
    "\n",
    "# Define the API endpoint\n",
    "url = \"http://74.249.184.110:8000/insert-corporate-action/\"\n",
    "\n",
    "# Select the first 3 elements\n",
    "first_three_records = k\n",
    "\n",
    "# Loop through the first three elements and send POST requests\n",
    "for record in first_three_records:\n",
    "    response = requests.post(url, json=record)\n",
    "    print(f\"Status Code: {response.status_code}, Response: {response.json()}\")"
   ]
  },
  {
   "cell_type": "code",
   "execution_count": 5,
   "metadata": {},
   "outputs": [
    {
     "ename": "IndexError",
     "evalue": "list index out of range",
     "output_type": "error",
     "traceback": [
      "\u001b[1;31m---------------------------------------------------------------------------\u001b[0m",
      "\u001b[1;31mIndexError\u001b[0m                                Traceback (most recent call last)",
      "Cell \u001b[1;32mIn[5], line 1\u001b[0m\n\u001b[1;32m----> 1\u001b[0m \u001b[43mk\u001b[49m\u001b[43m[\u001b[49m\u001b[38;5;241;43m7\u001b[39;49m\u001b[43m]\u001b[49m\n",
      "\u001b[1;31mIndexError\u001b[0m: list index out of range"
     ]
    }
   ],
   "source": [
    "k[7]"
   ]
  },
  {
   "cell_type": "code",
   "execution_count": 6,
   "metadata": {},
   "outputs": [
    {
     "data": {
      "text/plain": [
       "{'Company': 'Tonix Pharmaceuticals Holding Corp.',\n",
       " 'Corporate_Action': 'Reverse Split',\n",
       " 'Date_Announcement': 'February 3, 2025',\n",
       " 'Source': '2025-02-03_Tonix_Pharmaceuticals_Announces_1_for_100_Reverse__1545.pdf',\n",
       " 'Extracted_Information': 'Company_Name: Tonix Pharmaceuticals Holding Corp.\\nCompany_Symbol: TNXP\\nValue_Date: February 5, 2025\\nCustodian_ID: \\nAccount_Number: \\nSettlement_Amount: \\nCurrency: \\nTax_Details: \\nEligibility: \\nDebit_Security_Details: \\nRemarks: \\nReverse_Split_Ratio: 1:100\\nEx-Date: February 5, 2025\\nRecord_Date: \\nAnnouncement_Date: February 3, 2025\\nAdjusted_Share_Price_and_Quantity: \\nAdjustment_Factor: \\nCredit_New_Security_Asset_ID: 890260839',\n",
       " 'Insertion_Date_Time': '2025-02-06 05:05:09',\n",
       " 'Modified_Date_Time': '2025-02-06 05:05:09'}"
      ]
     },
     "execution_count": 6,
     "metadata": {},
     "output_type": "execute_result"
    }
   ],
   "source": [
    "k[0]"
   ]
  },
  {
   "cell_type": "code",
   "execution_count": 7,
   "metadata": {},
   "outputs": [],
   "source": [
    "\n",
    "from Bussiness_Wire_Source import fetch_and_process_corporate_actions"
   ]
  },
  {
   "cell_type": "code",
   "execution_count": 2,
   "metadata": {},
   "outputs": [
    {
     "name": "stdout",
     "output_type": "stream",
     "text": [
      "Starting the article scraping process...\n",
      "Scraping page: https://www.businesswire.com/portal/site/home/news/\n",
      "Scraping page: https://www.businesswire.com/portal/site/home/template.PAGE/news/?javax.portlet.tpst=ccf123a93466ea4c882a06a9149550fd&javax.portlet.prp_ccf123a93466ea4c882a06a9149550fd_viewID=MY_PORTAL_VIEW&javax.portlet.prp_ccf123a93466ea4c882a06a9149550fd_ndmHsc=v2*A1736168400000*B1738816820831*DgroupByDate*G2*N1000003&javax.portlet.begCacheTok=com.vignette.cachetoken&javax.portlet.endCacheTok=com.vignette.cachetoken\n",
      "Stopping scraping as the latest article is older than 15 minutes.\n",
      "Fetching article contents...\n",
      "Processing corporate actions...\n"
     ]
    }
   ],
   "source": [
    "k=fetch_and_process_corporate_actions()"
   ]
  },
  {
   "cell_type": "code",
   "execution_count": 3,
   "metadata": {},
   "outputs": [
    {
     "data": {
      "text/plain": [
       "[{'Company': 'Herron Todd White',\n",
       "  'Corporate_Action': 'Mergers',\n",
       "  'Date_Announcement': '2025-02-06 04:40:40',\n",
       "  'Source': 'https://www.businesswire.com/news/home/20250205286410/en/Herron-Todd-White-to-build-on-success-with-Quadrant-Private-Equity-Partnership',\n",
       "  'Extracted_Information': 'Company_Name: Herron Todd White\\nCompany_Symbol: \\nValue_Date: \\nCustodian_ID: \\nAccount_Number: \\nSettlement_Amount: \\nCurrency: \\nTax_Details: \\nEligibility: \\nDebit_Security_Details: \\nRemarks: \\nEx-Date: \\nCredit_New_Security_Asset_ID: \\nStock_Merger_Ratio: \\nDividend_Ratio:',\n",
       "  'Insertion_Date_Time': '2025-02-06 04:40:40',\n",
       "  'Modified_Date_Time': '2025-02-06 04:40:40'},\n",
       " {'Company': 'American Water',\n",
       "  'Corporate_Action': 'Mergers',\n",
       "  'Date_Announcement': '2025-02-06 04:40:40',\n",
       "  'Source': 'https://www.businesswire.com/news/home/20250205948006/en/California-American-Water-Completes-Acquisition-of-West-San-Martin-Water-Works',\n",
       "  'Extracted_Information': 'Company_Name: American Water\\nCompany_Symbol: AWK\\nSettlement_Amount: 1600000\\nCurrency: USD\\nValue_Date: February 2025\\n\\nAll other fields are empty as they are not mentioned in the provided text.',\n",
       "  'Insertion_Date_Time': '2025-02-06 04:40:40',\n",
       "  'Modified_Date_Time': '2025-02-06 04:40:40'},\n",
       " {'Company': 'Renesas Electronics Corporation',\n",
       "  'Corporate_Action': 'Cash Dividend Regular',\n",
       "  'Date_Announcement': 'February 6, 2025',\n",
       "  'Source': 'https://www.businesswire.com/news/home/20250205341267/en/Renesas-Reports-Financial-Results-for-the-Year-Ended-December-31-2024',\n",
       "  'Extracted_Information': 'Company_Name: Renesas Electronics Corporation\\nCompany_Symbol: TSE:6723\\nValue_Date: December 31, 2024\\nDividend_Amount_per_Share: 28.00\\nPayment_Date: March 31, 2025\\nAnnouncement_Date: February 6, 2025\\nCurrency: Yen',\n",
       "  'Insertion_Date_Time': '2025-02-06 04:40:40',\n",
       "  'Modified_Date_Time': '2025-02-06 04:40:40'}]"
      ]
     },
     "execution_count": 3,
     "metadata": {},
     "output_type": "execute_result"
    }
   ],
   "source": [
    "k"
   ]
  },
  {
   "cell_type": "code",
   "execution_count": 4,
   "metadata": {},
   "outputs": [
    {
     "data": {
      "text/plain": [
       "{'Company': 'Griffon Corporation',\n",
       " 'Corporate_Action': 'Cash Dividend Regular',\n",
       " 'Date_Announcement': '2025-02-05 12:40:04',\n",
       " 'Source': 'https://www.businesswire.com/news/home/20250204831282/en/Griffon-Corporation-Announces-First-Quarter-Results',\n",
       " 'Extracted_Information': 'Company_Name: Griffon Corporation\\nCompany_Symbol: GFF\\nDividend_Amount_per_Share: $0.18\\nCurrency: USD\\nPayment_Date: February 5, 2025\\n\\nAll other requested fields are empty as they are not provided in the financial record.',\n",
       " 'Insertion_Date_Time': '2025-02-05 12:40:04',\n",
       " 'Modified_Date_Time': '2025-02-05 12:40:04'}"
      ]
     },
     "execution_count": 4,
     "metadata": {},
     "output_type": "execute_result"
    }
   ],
   "source": [
    "k[0]"
   ]
  },
  {
   "cell_type": "code",
   "execution_count": 5,
   "metadata": {},
   "outputs": [
    {
     "data": {
      "text/plain": [
       "{'Company': 'Griffon Corporation',\n",
       " 'Corporate_Action': 'Cash Dividend Regular',\n",
       " 'Date_Announcement': '2025-02-05 12:40:17',\n",
       " 'Source': 'https://www.businesswire.com/news/home/20250204592037/en/Griffon-Corporation-Declares-Quarterly-Dividend',\n",
       " 'Extracted_Information': 'Company_Name: Griffon Corporation\\nCompany_Symbol: GFF\\nValue_Date: \\nCustodian_ID: \\nAccount_Number: \\nSettlement_Amount: \\nCurrency: \\nTax_Details: \\nEligibility: \\nDebit_Security_Details: \\nRemarks: \\nDividend_Amount_per_Share: 0.18\\nEx-Date: \\nRecord_Date: February 25, 2025\\nAnnouncement_Date: \\nPayment_Date: March 18, 2025\\nSedol: \\nCurrency: USD\\nDividend_Rate: 0.18',\n",
       " 'Insertion_Date_Time': '2025-02-05 12:40:04',\n",
       " 'Modified_Date_Time': '2025-02-05 12:40:04'}"
      ]
     },
     "execution_count": 5,
     "metadata": {},
     "output_type": "execute_result"
    }
   ],
   "source": [
    "k[1]"
   ]
  },
  {
   "cell_type": "code",
   "execution_count": 4,
   "metadata": {},
   "outputs": [
    {
     "name": "stdout",
     "output_type": "stream",
     "text": [
      "Status Code: 200, Response: {'message': \"New record inserted with status 'Not Verified'\"}\n",
      "Status Code: 200, Response: {'message': \"New record inserted with status 'Not Verified'\"}\n",
      "Status Code: 200, Response: {'message': \"New record inserted with status 'Not Verified'\"}\n"
     ]
    }
   ],
   "source": [
    "import requests\n",
    "\n",
    "# Define the API endpoint\n",
    "url = \"http://74.249.184.110:8000/insert-corporate-action/\"\n",
    "\n",
    "# Select the first 3 elements\n",
    "first_three_records = k\n",
    "\n",
    "# Loop through the first three elements and send POST requests\n",
    "for record in first_three_records:\n",
    "    response = requests.post(url, json=record)\n",
    "    print(f\"Status Code: {response.status_code}, Response: {response.json()}\")"
   ]
  },
  {
   "cell_type": "code",
   "execution_count": 9,
   "metadata": {},
   "outputs": [],
   "source": [
    "p=k[0]['Date_Announcement']"
   ]
  },
  {
   "cell_type": "code",
   "execution_count": 11,
   "metadata": {},
   "outputs": [],
   "source": [
    "announcement_date=p"
   ]
  },
  {
   "cell_type": "code",
   "execution_count": 13,
   "metadata": {},
   "outputs": [],
   "source": [
    "from datetime import datetime"
   ]
  },
  {
   "cell_type": "code",
   "execution_count": 14,
   "metadata": {},
   "outputs": [],
   "source": [
    "r=announcement_date if announcement_date else datetime.now().strftime(\"%Y-%m-%d %H:%M:%S\")"
   ]
  },
  {
   "cell_type": "code",
   "execution_count": 15,
   "metadata": {},
   "outputs": [
    {
     "data": {
      "text/plain": [
       "'2025-02-05 11:54:38'"
      ]
     },
     "execution_count": 15,
     "metadata": {},
     "output_type": "execute_result"
    }
   ],
   "source": [
    "r"
   ]
  },
  {
   "cell_type": "code",
   "execution_count": 1,
   "metadata": {},
   "outputs": [
    {
     "name": "stdout",
     "output_type": "stream",
     "text": [
      "Starting PR Newswire scraping...\n",
      "Scraping page: https://www.prnewswire.com/news-releases/news-releases-list/?page=1&pagesize=100\n",
      "Scraping page: https://www.prnewswire.com/news-releases/news-releases-list/?page=2&pagesize=100\n",
      "Stopping - found article older than 15 minutes\n",
      "Processing 30 articles...\n"
     ]
    }
   ],
   "source": [
    "from PR_News_Source import fetch_and_process_prnewswire\n",
    "formatted_data = fetch_and_process_prnewswire()"
   ]
  },
  {
   "cell_type": "code",
   "execution_count": 2,
   "metadata": {},
   "outputs": [
    {
     "data": {
      "text/plain": [
       "[{'Company': 'CSL Group',\n",
       "  'Corporate_Action': 'Mergers',\n",
       "  'Date_Announcement': '2025-02-06 07:30:00',\n",
       "  'Source': 'https://www.prnewswire.com/news-releases/csl-annonce-lacquisition-dedgeconnect-302369224.html',\n",
       "  'Extracted_Information': 'Company_Name: CSL Group\\nCompany_Symbol:\\nValue_Date: 2025-02-05\\nCustodian_ID:\\nAccount_Number:\\nSettlement_Amount:\\nCurrency:\\nTax_Details:\\nEligibility:\\nDebit_Security_Details:\\nRemarks:\\nEx-Date:\\nCredit_New_Security_Asset_ID:\\nStock_Merger_Ratio:\\nDividend_Ratio:',\n",
       "  'Insertion_Date_Time': '2025-02-06 04:49:52',\n",
       "  'Modified_Date_Time': '2025-02-06 04:49:52'},\n",
       " {'Company': 'CSL Group',\n",
       "  'Corporate_Action': 'Mergers',\n",
       "  'Date_Announcement': '2025-02-06 07:30:00',\n",
       "  'Source': 'https://www.prnewswire.com/news-releases/csl-anuncia-la-adquisicion-de-edgeconnect-302368646.html',\n",
       "  'Extracted_Information': 'Company_Name: CSL Group\\nCompany_Symbol: \\nValue_Date: 2025-02-05\\nCustodian_ID: \\nAccount_Number: \\nSettlement_Amount: \\nCurrency: \\nTax_Details: \\nEligibility: \\nDebit_Security_Details: \\nRemarks: CSL Group acquires EdgeConnect\\nEx-Date: \\nCredit_New_Security_Asset_ID: \\nStock_Merger_Ratio: \\nDividend_Ratio:',\n",
       "  'Insertion_Date_Time': '2025-02-06 04:49:52',\n",
       "  'Modified_Date_Time': '2025-02-06 04:49:52'},\n",
       " {'Company': 'CSL Group',\n",
       "  'Corporate_Action': 'Mergers',\n",
       "  'Date_Announcement': '2025-02-06 07:30:00',\n",
       "  'Source': 'https://www.prnewswire.com/news-releases/csl-announces-the-acquisition-of-edgeconnect-302367961.html',\n",
       "  'Extracted_Information': 'Company_Name: CSL Group\\nCompany_Symbol:\\nValue_Date: 2025-02-05\\nCustodian_ID:\\nAccount_Number:\\nSettlement_Amount:\\nCurrency:\\nTax_Details:\\nEligibility:\\nDebit_Security_Details:\\nRemarks: Acquisition of EdgeConnect\\nEx-Date:\\nCredit_New_Security_Asset_ID:\\nStock_Merger_Ratio:\\nDividend_Ratio:',\n",
       "  'Insertion_Date_Time': '2025-02-06 04:49:52',\n",
       "  'Modified_Date_Time': '2025-02-06 04:49:52'},\n",
       " {'Company': 'CSL Group',\n",
       "  'Corporate_Action': 'Mergers',\n",
       "  'Date_Announcement': '2025-02-06 07:30:00',\n",
       "  'Source': 'https://www.prnewswire.com/news-releases/csl-gibt-die-ubernahme-von-edgeconnect-bekannt-302368377.html',\n",
       "  'Extracted_Information': 'Company_Name: CSL Group\\nCompany_Symbol:\\nValue_Date: 2025-02-05\\nCustodian_ID:\\nAccount_Number:\\nSettlement_Amount:\\nCurrency:\\nTax_Details:\\nEligibility:\\nDebit_Security_Details:\\nRemarks:\\nEx-Date:\\nCredit_New_Security_Asset_ID:\\nStock_Merger_Ratio:\\nDividend_Ratio:',\n",
       "  'Insertion_Date_Time': '2025-02-06 04:49:52',\n",
       "  'Modified_Date_Time': '2025-02-06 04:49:52'},\n",
       " {'Company': 'CSL Group',\n",
       "  'Corporate_Action': 'Mergers',\n",
       "  'Date_Announcement': '2025-02-06 07:30:00',\n",
       "  'Source': 'https://www.prnewswire.com/news-releases/csl-announces-the-acquisition-of-edgeconnect-302367964.html',\n",
       "  'Extracted_Information': 'Company_Name: CSL Group\\nCompany_Symbol:\\nValue_Date: 2025-02-05\\nCustodian_ID:\\nAccount_Number:\\nSettlement_Amount:\\nCurrency:\\nTax_Details:\\nEligibility:\\nDebit_Security_Details:\\nRemarks: Acquisition of EdgeConnect\\nEx-Date:\\nCredit_New_Security_Asset_ID:\\nStock_Merger_Ratio:\\nDividend_Ratio:',\n",
       "  'Insertion_Date_Time': '2025-02-06 04:49:52',\n",
       "  'Modified_Date_Time': '2025-02-06 04:49:52'},\n",
       " {'Company': 'Weidner Apartment Homes',\n",
       "  'Corporate_Action': 'Mergers',\n",
       "  'Date_Announcement': '2025-02-06 06:05:00',\n",
       "  'Source': 'https://www.prnewswire.com/news-releases/weidner-apartment-homes-named-sole-owner-of-the-colorado-springs-switchbacks-fc-302369494.html',\n",
       "  'Extracted_Information': 'Company_Name: Weidner Apartment Homes\\nCompany_Symbol: \\nValue_Date: 2025-02-05\\nCustodian_ID: \\nAccount_Number: \\nSettlement_Amount: 50000000\\nCurrency: USD\\nTax_Details: \\nEligibility: \\nDebit_Security_Details: \\nRemarks: Acquisition of full ownership of Colorado Springs Switchbacks Football Club\\nEx-Date: \\nCredit_New_Security_Asset_ID: \\nStock_Merger_Ratio: \\nDividend_Ratio:',\n",
       "  'Insertion_Date_Time': '2025-02-06 04:49:52',\n",
       "  'Modified_Date_Time': '2025-02-06 04:49:52'},\n",
       " {'Company': 'Itaú Unibanco Holding S.A.',\n",
       "  'Corporate_Action': 'Cash Dividend Regular',\n",
       "  'Date_Announcement': '2025-02-06 06:05:00',\n",
       "  'Source': 'https://www.prnewswire.com/news-releases/itau-unibanco---material-fact--payment-of-dividends-and-interest-on-capital-302369495.html',\n",
       "  'Extracted_Information': 'Company_Name: Itaú Unibanco Holding S.A.\\nCompany_Symbol: ITUB3, ITUB4\\nValue_Date: \\nCustodian_ID: \\nAccount_Number: \\nSettlement_Amount: R$15 billion\\nCurrency: BRL\\nTax_Details: 15% withholding tax on interest on capital\\nEligibility: \\nDebit_Security_Details: \\nRemarks: \\nDividend_Amount_per_Share: R$1.25093\\nEx-Date: February 18, 2025\\nRecord_Date: February 17, 2025\\nAnnouncement_Date: February 5, 2025\\nPayment_Date: March 7, 2025\\nSedol: \\nCurrency: BRL\\nDividend_Rate: R$1.25093 (dividends) + R',\n",
       "  'Insertion_Date_Time': '2025-02-06 04:49:52',\n",
       "  'Modified_Date_Time': '2025-02-06 04:49:52'},\n",
       " {'Company': 'Weis Markets, Inc.',\n",
       "  'Corporate_Action': 'Cash Dividend Regular',\n",
       "  'Date_Announcement': '2025-02-06 03:48:00',\n",
       "  'Source': 'https://www.prnewswire.com/news-releases/weis-markets-announces-quarterly-dividend-302369439.html',\n",
       "  'Extracted_Information': 'Company_Name: Weis Markets, Inc.\\nCompany_Symbol: WMK\\nValue_Date:\\nCustodian_ID:\\nAccount_Number:\\nSettlement_Amount:\\nCurrency:\\nTax_Details:\\nEligibility:\\nDebit_Security_Details:\\nRemarks:\\nDividend_Amount_per_Share: 0.34\\nEx-Date:\\nRecord_Date: 2025-02-18\\nAnnouncement_Date: 2025-02-05\\nPayment_Date: 2025-03-04\\nSedol:\\nCurrency: USD\\nDividend_Rate: 0.34',\n",
       "  'Insertion_Date_Time': '2025-02-06 04:49:52',\n",
       "  'Modified_Date_Time': '2025-02-06 04:49:52'},\n",
       " {'Company': 'Century Communities, Inc.',\n",
       "  'Corporate_Action': 'Cash Dividend Regular',\n",
       "  'Date_Announcement': '2025-02-06 03:19:00',\n",
       "  'Source': 'https://www.prnewswire.com/news-releases/century-communities-increases-quarterly-cash-dividend-302369422.html',\n",
       "  'Extracted_Information': 'Company_Name: Century Communities, Inc.\\nCompany_Symbol: CCS\\nValue_Date: \\nCustodian_ID: \\nAccount_Number: \\nSettlement_Amount: \\nCurrency: \\nTax_Details: \\nEligibility: \\nDebit_Security_Details: \\nRemarks: \\nDividend_Amount_per_Share: 0.29\\nEx-Date: \\nRecord_Date: February 26, 2025\\nAnnouncement_Date: February 5, 2025\\nPayment_Date: March 12, 2025\\nSedol: \\nCurrency: USD\\nDividend_Rate: 12',\n",
       "  'Insertion_Date_Time': '2025-02-06 04:49:52',\n",
       "  'Modified_Date_Time': '2025-02-06 04:49:52'},\n",
       " {'Company': 'PepsiCo, Inc.',\n",
       "  'Corporate_Action': 'Cash Dividend Regular',\n",
       "  'Date_Announcement': '2025-02-06 03:11:00',\n",
       "  'Source': 'https://www.prnewswire.com/news-releases/pepsico-declares-quarterly-dividend-302369416.html',\n",
       "  'Extracted_Information': 'Company_Name: PepsiCo, Inc.\\nCompany_Symbol: PEP\\nValue_Date: \\nCustodian_ID: \\nAccount_Number: \\nSettlement_Amount: \\nCurrency: \\nTax_Details: \\nEligibility: \\nDebit_Security_Details: \\nRemarks: \\nDividend_Amount_per_Share: $1.355\\nEx-Date: \\nRecord_Date: March 7, 2025\\nAnnouncement_Date: February 5, 2025\\nPayment_Date: March 31, 2025\\nSedol: \\nCurrency: \\nDividend_Rate: 7 percent increase',\n",
       "  'Insertion_Date_Time': '2025-02-06 04:49:52',\n",
       "  'Modified_Date_Time': '2025-02-06 04:49:52'}]"
      ]
     },
     "execution_count": 2,
     "metadata": {},
     "output_type": "execute_result"
    }
   ],
   "source": [
    "formatted_data"
   ]
  },
  {
   "cell_type": "code",
   "execution_count": 4,
   "metadata": {},
   "outputs": [
    {
     "name": "stdout",
     "output_type": "stream",
     "text": [
      "Status Code: 200, Response: {'message': \"New record inserted with status 'Not Verified'\"}\n",
      "Status Code: 200, Response: {'message': \"New record inserted with status 'Not Verified'\"}\n",
      "Status Code: 200, Response: {'message': \"New record inserted with status 'Not Verified'\"}\n",
      "Status Code: 200, Response: {'message': \"New record inserted with status 'Not Verified'\"}\n",
      "Status Code: 200, Response: {'message': \"New record inserted with status 'Not Verified'\"}\n",
      "Status Code: 200, Response: {'message': \"New record inserted with status 'Not Verified'\"}\n",
      "Status Code: 200, Response: {'message': \"New record inserted with status 'Not Verified'\"}\n",
      "Status Code: 200, Response: {'message': \"New record inserted with status 'Not Verified'\"}\n",
      "Status Code: 200, Response: {'message': \"New record inserted with status 'Not Verified'\"}\n",
      "Status Code: 200, Response: {'message': \"New record inserted with status 'Not Verified'\"}\n"
     ]
    }
   ],
   "source": [
    "import requests\n",
    "\n",
    "# Define the API endpoint\n",
    "url = \"http://74.249.184.110:8000/insert-corporate-action/\"\n",
    "\n",
    "# Select the first 3 elements\n",
    "first_three_records = formatted_data\n",
    "\n",
    "# Loop through the first three elements and send POST requests\n",
    "for record in first_three_records:\n",
    "    response = requests.post(url, json=record)\n",
    "    print(f\"Status Code: {response.status_code}, Response: {response.json()}\")"
   ]
  },
  {
   "cell_type": "code",
   "execution_count": 6,
   "metadata": {},
   "outputs": [
    {
     "name": "stdout",
     "output_type": "stream",
     "text": [
      "Company_Name: Hub International Limited\n",
      "Company_Symbol:\n",
      "Value_Date: 2025-02-05\n",
      "Custodian_ID:\n",
      "Account_Number:\n",
      "Settlement_Amount:\n",
      "Currency:\n",
      "Tax_Details:\n",
      "Eligibility:\n",
      "Debit_Security_Details:\n",
      "Remarks:\n",
      "Ex-Date:\n",
      "Credit_New_Security_Asset_ID:\n",
      "Stock_Merger_Ratio:\n",
      "Dividend_Ratio:\n"
     ]
    }
   ],
   "source": [
    "print(pr_results[0]['Extracted_Information'])"
   ]
  },
  {
   "cell_type": "code",
   "execution_count": 1,
   "metadata": {},
   "outputs": [],
   "source": [
    "from FINRA_Source import process_finra_data"
   ]
  },
  {
   "cell_type": "code",
   "execution_count": null,
   "metadata": {},
   "outputs": [],
   "source": []
  },
  {
   "cell_type": "code",
   "execution_count": 1,
   "metadata": {},
   "outputs": [
    {
     "name": "stdout",
     "output_type": "stream",
     "text": [
      "    dailyListDatetime           dailyListReasonDescription newSymbolCode oldSymbolCode  ... ADRNetRate ADRIssuanceFeeAmount ADRWitholdingTaxPercentage qualifiedDividendDescription\n",
      "0 2025-02-05 09:46:55                         CUSIP Change         ZNOGW         ZNOGW  ...        NaN                  NaN                        NaN                          NaN\n",
      "1 2025-02-05 08:56:36                             Addition           NaN         PNDRY  ...        NaN                  NaN                        NaN                          NaN\n",
      "2 2025-02-05 08:56:30  Sponsored to Unsponsored Conversion           NaN         PANDY  ...        NaN                  NaN                        NaN                          NaN\n",
      "3 2025-02-05 08:11:23                Cash Dividend Regular         OKASY         OKASY  ...        NaN                  NaN                        NaN                          NaN\n",
      "4 2025-02-05 08:10:04                Cash Dividend Regular         HTSUY         HTSUY  ...        NaN                  NaN                        NaN                          NaN\n",
      "5 2025-02-05 08:08:27                Cash Dividend Regular         FRCOY         FRCOY  ...        NaN                  NaN                        NaN                          NaN\n",
      "6 2025-02-05 08:06:32                Cash Dividend Regular         AONNY         AONNY  ...        NaN                  NaN                        NaN                          NaN\n",
      "\n",
      "[7 rows x 42 columns]\n",
      "Skipping record with unknown event type: CUSIP Change\n",
      "Skipping record with unknown event type: Addition\n",
      "Skipping record with unknown event type: Sponsored to Unsponsored Conversion\n"
     ]
    }
   ],
   "source": [
    "from FINRA_Source import get_formatted_financial_data\n",
    "\n",
    "formatted_data = get_formatted_financial_data()"
   ]
  },
  {
   "cell_type": "code",
   "execution_count": 2,
   "metadata": {},
   "outputs": [
    {
     "data": {
      "text/plain": [
       "[{'Company': 'Onward Holdings Co., Ltd. Unponsored ADR (Japan)',\n",
       "  'Corporate_Action': 'Cash Dividend Regular',\n",
       "  'Date_Announcement': '2025-02-05 08:11:23',\n",
       "  'Source': 'FINRA',\n",
       "  'Extracted_Information': 'Company_Name: Onward Holdings Co., Ltd. Unponsored ADR (Japan)\\nCompany_Symbol: OKASY\\nValue_Date:\\nCustodian_ID:\\nAccount_Number:\\nSettlement_Amount:\\nCurrency:\\nTax_Details:\\nEligibility:\\nDebit_Security_Details:\\nRemarks: Amount & Pay Date TBA. NOTE: Citibank as Depositary for this issue has set a US record date of 02/28/2025 in the event that the Company announces a dividend at the annual shareholders meeting.\\nDividend_Amount_per_Share:\\nEx-Date:\\nRecord_Date: 2025-02-28\\nAnnouncement_Date:\\nPayment_Date:\\nSedol:\\nCurrency:\\nDividend_Rate:',\n",
       "  'Insertion_Date_Time': '2025-02-05T15:16:26.003408',\n",
       "  'Modified_Date_Time': '2025-02-05T15:16:26.003408'},\n",
       " {'Company': 'Hisamitsu Pharmaceutical Co Inc American Depositary Receipts - Unsponsored (Japan)',\n",
       "  'Corporate_Action': 'Cash Dividend Regular',\n",
       "  'Date_Announcement': '2025-02-05 08:10:04',\n",
       "  'Source': 'FINRA',\n",
       "  'Extracted_Information': 'Company_Name: Hisamitsu Pharmaceutical Co Inc\\nCompany_Symbol: HTSUY\\nValue_Date:\\nCustodian_ID:\\nAccount_Number:\\nSettlement_Amount:\\nCurrency:\\nTax_Details:\\nEligibility:\\nDebit_Security_Details:\\nRemarks: (APX) Amount & Pay Date TBA. NOTE: Citibank as Depositary for this issue has set a US record date of 02/28/2025 in the event that the Company announces a dividend at the annual shareholders meeting. Since the dividend amount (if any) and declaration of this dividend by the Company is subject to shareholders\\' approval, this issue will not be quoted \"ex dividend\".\\nDividend_Amount_per_Share:\\nEx-Date:\\nRecord_Date: 2025-02-28\\nAnnouncement_Date:\\nPayment_Date:\\nSedol',\n",
       "  'Insertion_Date_Time': '2025-02-05T15:16:26.003408',\n",
       "  'Modified_Date_Time': '2025-02-05T15:16:26.003408'},\n",
       " {'Company': 'Fast Retailing Co Ltd Unsponsored ADR (Japan)',\n",
       "  'Corporate_Action': 'Cash Dividend Regular',\n",
       "  'Date_Announcement': '2025-02-05 08:08:27',\n",
       "  'Source': 'FINRA',\n",
       "  'Extracted_Information': 'Company_Name: Fast Retailing Co Ltd Unsponsored ADR (Japan)\\nCompany_Symbol: FRCOY\\nValue_Date: \\nCustodian_ID: \\nAccount_Number: \\nSettlement_Amount: \\nCurrency: \\nTax_Details: \\nEligibility: \\nDebit_Security_Details: \\nRemarks: (APX) Amount & Pay Date TBA. NOTE: Citibank as Depositary for this issue has set a US record date of 02/28/2025 in the event that the Company announces a dividend at the annual shareholders meeting. Since the dividend amount (if any) and declaration of this dividend by the Company is subject to shareholders\\' approval, this issue will not be quoted \"ex dividend\". Members are reminded of their obligations under FINRA Rule 3220 (b) with respect to open orders.\\nDividen',\n",
       "  'Insertion_Date_Time': '2025-02-05T15:16:26.003408',\n",
       "  'Modified_Date_Time': '2025-02-05T15:16:26.003408'},\n",
       " {'Company': 'Aeon Co Ltd American Depositary Shares',\n",
       "  'Corporate_Action': 'Cash Dividend Regular',\n",
       "  'Date_Announcement': '2025-02-05 08:06:32',\n",
       "  'Source': 'FINRA',\n",
       "  'Extracted_Information': 'Company_Name: Aeon Co Ltd American Depositary Shares\\nCompany_Symbol: AONNY\\nValue_Date:\\nCustodian_ID:\\nAccount_Number:\\nSettlement_Amount:\\nCurrency:\\nTax_Details:\\nEligibility:\\nDebit_Security_Details:\\nRemarks: Amount & Pay Date TBA. NOTE: Citibank as Depositary for this issue has set a US record date of 02/28/2025 in the event that the Company announces a dividend at the annual shareholders meeting.\\nDividend_Amount_per_Share:\\nEx-Date:\\nRecord_Date: 2025-02-28\\nAnnouncement_Date: 2025-02-05\\nPayment_Date:\\nSedol:\\nCurrency:\\nDividend_Rate:',\n",
       "  'Insertion_Date_Time': '2025-02-05T15:16:26.003408',\n",
       "  'Modified_Date_Time': '2025-02-05T15:16:26.003408'}]"
      ]
     },
     "execution_count": 2,
     "metadata": {},
     "output_type": "execute_result"
    }
   ],
   "source": [
    "formatted_data"
   ]
  },
  {
   "cell_type": "code",
   "execution_count": 3,
   "metadata": {},
   "outputs": [
    {
     "name": "stdout",
     "output_type": "stream",
     "text": [
      "Status Code: 200, Response: {'message': \"New record inserted with status 'Not Verified'\"}\n",
      "Status Code: 200, Response: {'message': \"New record inserted with status 'Not Verified'\"}\n",
      "Status Code: 200, Response: {'message': \"New record inserted with status 'Not Verified'\"}\n",
      "Status Code: 200, Response: {'message': \"New record inserted with status 'Not Verified'\"}\n"
     ]
    }
   ],
   "source": [
    "import requests\n",
    "\n",
    "# Define the API endpoint\n",
    "url = \"http://74.249.184.110:8000/insert-corporate-action/\"\n",
    "\n",
    "# Select the first 3 elements\n",
    "first_three_records = formatted_data\n",
    "\n",
    "# Loop through the first three elements and send POST requests\n",
    "for record in first_three_records:\n",
    "    response = requests.post(url, json=record)\n",
    "    print(f\"Status Code: {response.status_code}, Response: {response.json()}\")"
   ]
  },
  {
   "cell_type": "code",
   "execution_count": null,
   "metadata": {},
   "outputs": [],
   "source": []
  }
 ],
 "metadata": {
  "kernelspec": {
   "display_name": ".venv",
   "language": "python",
   "name": "python3"
  },
  "language_info": {
   "codemirror_mode": {
    "name": "ipython",
    "version": 3
   },
   "file_extension": ".py",
   "mimetype": "text/x-python",
   "name": "python",
   "nbconvert_exporter": "python",
   "pygments_lexer": "ipython3",
   "version": "3.10.0"
  }
 },
 "nbformat": 4,
 "nbformat_minor": 2
}
