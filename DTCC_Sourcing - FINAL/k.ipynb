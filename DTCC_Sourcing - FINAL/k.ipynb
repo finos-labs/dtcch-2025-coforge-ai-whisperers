{
 "cells": [
  {
   "cell_type": "code",
   "execution_count": 1,
   "metadata": {},
   "outputs": [
    {
     "name": "stdout",
     "output_type": "stream",
     "text": [
      "hello\n"
     ]
    }
   ],
   "source": [
    "print(\"hello\")"
   ]
  },
  {
   "cell_type": "code",
   "execution_count": 1,
   "metadata": {},
   "outputs": [],
   "source": [
    "from sourcing_selenium_BeautifulSoup import nasdaq_corporate_actions\n"
   ]
  },
  {
   "cell_type": "code",
   "execution_count": 2,
   "metadata": {},
   "outputs": [
    {
     "name": "stdout",
     "output_type": "stream",
     "text": [
      "Data saved to nasdaq_corporate_actions_with_Article_content.csv\n",
      "           Date                                           Headline  \\\n",
      "0  Feb 05, 2025  Equity Corporate Actions Alert #2025-49 - Info...   \n",
      "\n",
      "                                                Link  \\\n",
      "0  https://www.nasdaqtrader.com/TraderNews.aspx?i...   \n",
      "\n",
      "                                     Article_Content  \n",
      "0  The tender offer by Crown Laboratories, Inc. t...  \n"
     ]
    },
    {
     "name": "stderr",
     "output_type": "stream",
     "text": [
      "c:\\Users\\hackathon\\DTCC_Sourcing\\sourcing_selenium_BeautifulSoup.py:111: SettingWithCopyWarning: \n",
      "A value is trying to be set on a copy of a slice from a DataFrame.\n",
      "Try using .loc[row_indexer,col_indexer] = value instead\n",
      "\n",
      "See the caveats in the documentation: https://pandas.pydata.org/pandas-docs/stable/user_guide/indexing.html#returning-a-view-versus-a-copy\n",
      "  df[\"Article_Content\"] = df[\"Link\"].apply(lambda url: scrape_article_content(url) if pd.notna(url) and url.startswith(\"http\") else \"\")\n"
     ]
    }
   ],
   "source": [
    "k=nasdaq_corporate_actions()"
   ]
  },
  {
   "cell_type": "code",
   "execution_count": 5,
   "metadata": {},
   "outputs": [
    {
     "data": {
      "text/plain": [
       "Index(['Date', 'Headline', 'Link', 'Article_Content'], dtype='object')"
      ]
     },
     "execution_count": 5,
     "metadata": {},
     "output_type": "execute_result"
    }
   ],
   "source": [
    "k.columns"
   ]
  },
  {
   "cell_type": "code",
   "execution_count": 16,
   "metadata": {},
   "outputs": [],
   "source": [
    "import pandas as pd\n",
    "from datetime import datetime\n",
    "from anthropic_client import get_anthropic_client\n",
    "from prompt_templates import PROMPT_TEMPLATES, corporate_action_prompt\n",
    "import json\n",
    "# Initialize the AnthropicBedrock client\n",
    "client = get_anthropic_client()\n",
    "\n",
    "def invoke_claude(prompt):\n",
    "    \"\"\"Sends a prompt to Claude 3.5 on AWS Bedrock and returns the response.\"\"\"\n",
    "    try:\n",
    "        response = client.messages.create(\n",
    "            model=\"anthropic.claude-3-5-sonnet-20241022-v2:0\",\n",
    "            max_tokens=200,\n",
    "            temperature=0.5,\n",
    "            messages=[{\"role\": \"user\", \"content\": prompt}]\n",
    "        )\n",
    "        return response.content\n",
    "    except Exception as e:\n",
    "        print(f\"ERROR: Can't invoke the model. Reason: {e}\")\n",
    "        return None\n",
    "\n",
    "def process_corporate_actions_from_df(df):\n",
    "    \"\"\"Process extracted text to determine corporate actions and extract details from dataframe.\"\"\"\n",
    "    formatted_data = []\n",
    "    current_datetime = datetime.now().strftime(\"%Y-%m-%d %H:%M:%S\")\n",
    "    \n",
    "    for index, row in df.iterrows():\n",
    "        # Determine corporate action type from the Headline\n",
    "        headline = row['Article_Content']\n",
    "        prompt = corporate_action_prompt.format(data=headline)\n",
    "        corporate_action = invoke_claude(prompt)\n",
    "        corporate_action=corporate_action[0].text\n",
    "        print(corporate_action)\n",
    "        # Assuming that we have valid corporate action, process further\n",
    "        if corporate_action and corporate_action != \"No Corporate Action Found\":\n",
    "            corporate_action = corporate_action.strip()\n",
    "            \n",
    "            # Extract details based on corporate action type from the entire dictionary (row)\n",
    "            detail_prompt = PROMPT_TEMPLATES[corporate_action].format(data=row.to_dict())\n",
    "            detail_response = invoke_claude(detail_prompt)\n",
    "        \n",
    "            if detail_response:\n",
    "                # Extract Company Name and Announcement Date (example logic, adjust as needed)\n",
    "                extracted_info = detail_response[0].text.split(\"\\n\")\n",
    "                company_name = next((line.split(\": \")[1] for line in extracted_info if \"Company_Name:\" in line), \"Unknown\")\n",
    "                announcement_date = next((line.split(\": \")[1] for line in extracted_info if \"Announcement_Date:\" in line), datetime.now().strftime(\"%Y-%m-%d\"))\n",
    "                \n",
    "                formatted_data.append({\n",
    "                    \"Company\": company_name,\n",
    "                    \"Corporate_Action\": corporate_action,\n",
    "                    \"Date_Announcement\": announcement_date,\n",
    "                    \"Source\": row['Link'],\n",
    "                    \"Headline\": row['Headline'],\n",
    "                    \"Extracted_Information\": detail_response[0].text,\n",
    "                    \"Insertion_Date_Time\": current_datetime,\n",
    "                    \"Modified_Date_Time\": current_datetime\n",
    "                })\n",
    "    \n",
    "    return formatted_data\n",
    "\n",
    "# Assuming df is your input dataframe\n",
    "# df = pd.read_csv('your_dataframe.csv')  # Example loading\n",
    "\n",
    "\n"
   ]
  },
  {
   "cell_type": "code",
   "execution_count": 17,
   "metadata": {},
   "outputs": [
    {
     "data": {
      "text/html": [
       "<div>\n",
       "<style scoped>\n",
       "    .dataframe tbody tr th:only-of-type {\n",
       "        vertical-align: middle;\n",
       "    }\n",
       "\n",
       "    .dataframe tbody tr th {\n",
       "        vertical-align: top;\n",
       "    }\n",
       "\n",
       "    .dataframe thead th {\n",
       "        text-align: right;\n",
       "    }\n",
       "</style>\n",
       "<table border=\"1\" class=\"dataframe\">\n",
       "  <thead>\n",
       "    <tr style=\"text-align: right;\">\n",
       "      <th></th>\n",
       "      <th>Date</th>\n",
       "      <th>Headline</th>\n",
       "      <th>Link</th>\n",
       "      <th>Article_Content</th>\n",
       "    </tr>\n",
       "  </thead>\n",
       "  <tbody>\n",
       "    <tr>\n",
       "      <th>0</th>\n",
       "      <td>Feb 05, 2025</td>\n",
       "      <td>Equity Corporate Actions Alert #2025-49 - Info...</td>\n",
       "      <td>https://www.nasdaqtrader.com/TraderNews.aspx?i...</td>\n",
       "      <td>The tender offer by Crown Laboratories, Inc. t...</td>\n",
       "    </tr>\n",
       "  </tbody>\n",
       "</table>\n",
       "</div>"
      ],
      "text/plain": [
       "           Date                                           Headline  \\\n",
       "0  Feb 05, 2025  Equity Corporate Actions Alert #2025-49 - Info...   \n",
       "\n",
       "                                                Link  \\\n",
       "0  https://www.nasdaqtrader.com/TraderNews.aspx?i...   \n",
       "\n",
       "                                     Article_Content  \n",
       "0  The tender offer by Crown Laboratories, Inc. t...  "
      ]
     },
     "execution_count": 17,
     "metadata": {},
     "output_type": "execute_result"
    }
   ],
   "source": [
    "k"
   ]
  },
  {
   "cell_type": "code",
   "execution_count": 18,
   "metadata": {},
   "outputs": [
    {
     "name": "stdout",
     "output_type": "stream",
     "text": [
      "Mergers\n"
     ]
    }
   ],
   "source": [
    "formatted_result = process_corporate_actions_from_df(k)"
   ]
  },
  {
   "cell_type": "code",
   "execution_count": 1,
   "metadata": {},
   "outputs": [
    {
     "name": "stdout",
     "output_type": "stream",
     "text": [
      "Data saved to nasdaq_corporate_actions_with_Article_content.csv\n",
      "Empty DataFrame\n",
      "Columns: [Date, Headline, Link, Article_Content]\n",
      "Index: []\n",
      "[]\n"
     ]
    },
    {
     "name": "stderr",
     "output_type": "stream",
     "text": [
      "c:\\Users\\hackathon\\DTCC_Sourcing\\sourcing_selenium_BeautifulSoup.py:111: SettingWithCopyWarning: \n",
      "A value is trying to be set on a copy of a slice from a DataFrame.\n",
      "Try using .loc[row_indexer,col_indexer] = value instead\n",
      "\n",
      "See the caveats in the documentation: https://pandas.pydata.org/pandas-docs/stable/user_guide/indexing.html#returning-a-view-versus-a-copy\n",
      "  df[\"Article_Content\"] = df[\"Link\"].apply(lambda url: scrape_article_content(url) if pd.notna(url) and url.startswith(\"http\") else \"\")\n"
     ]
    }
   ],
   "source": [
    "from Nasdaq_Trader_Source import process_corporate_actions\n",
    "\n",
    "data = process_corporate_actions()\n",
    "print(data)\n"
   ]
  },
  {
   "cell_type": "code",
   "execution_count": 3,
   "metadata": {},
   "outputs": [
    {
     "data": {
      "text/plain": [
       "[{'Company': 'Revance Therapeutics, Inc.',\n",
       "  'Corporate_Action': 'Mergers',\n",
       "  'Date_Announcement': '2025-02-05',\n",
       "  'Source': 'https://www.nasdaqtrader.com/TraderNews.aspx?id=ECA2025-49',\n",
       "  'Headline': 'Equity Corporate Actions Alert #2025-49 - Information Regarding the Tender Offer of Revance Therapeutics, Inc. (RVNC)',\n",
       "  'Extracted_Information': 'Company_Name: Revance Therapeutics, Inc.\\nCompany_Symbol: RVNC\\nValue_Date: Feb 05, 2025\\nCustodian_ID: \\nAccount_Number: \\nSettlement_Amount: 3.65\\nCurrency: USD\\nTax_Details: \\nEligibility: \\nDebit_Security_Details: 761330109\\nRemarks: Tender offer by Crown Laboratories, Inc. to acquire all outstanding common stock\\nEx-Date: \\nCredit_New_Security_Asset_ID: \\nStock_Merger_Ratio: \\nDividend_Ratio:',\n",
       "  'Insertion_Date_Time': '2025-02-05 16:41:23',\n",
       "  'Modified_Date_Time': '2025-02-05 16:41:23'}]"
      ]
     },
     "execution_count": 3,
     "metadata": {},
     "output_type": "execute_result"
    }
   ],
   "source": [
    "data"
   ]
  },
  {
   "cell_type": "code",
   "execution_count": 4,
   "metadata": {},
   "outputs": [
    {
     "name": "stdout",
     "output_type": "stream",
     "text": [
      "Status Code: 200, Response: {'message': \"New record inserted with status 'Not Verified'\"}\n"
     ]
    }
   ],
   "source": [
    "import requests\n",
    "\n",
    "# Define the API endpoint\n",
    "url = \"http://74.249.184.110:8000/insert-corporate-action/\"\n",
    "\n",
    "# Select the first 3 elements\n",
    "first_three_records = data\n",
    "\n",
    "# Loop through the first three elements and send POST requests\n",
    "for record in first_three_records:\n",
    "    response = requests.post(url, json=record)\n",
    "    print(f\"Status Code: {response.status_code}, Response: {response.json()}\")"
   ]
  },
  {
   "cell_type": "code",
   "execution_count": 2,
   "metadata": {},
   "outputs": [],
   "source": [
    "from FINRA_Source import get_formatted_financial_data"
   ]
  },
  {
   "cell_type": "code",
   "execution_count": 3,
   "metadata": {},
   "outputs": [
    {
     "ename": "EmptyDataError",
     "evalue": "No columns to parse from file",
     "output_type": "error",
     "traceback": [
      "\u001b[1;31m---------------------------------------------------------------------------\u001b[0m",
      "\u001b[1;31mEmptyDataError\u001b[0m                            Traceback (most recent call last)",
      "Cell \u001b[1;32mIn[3], line 1\u001b[0m\n\u001b[1;32m----> 1\u001b[0m extracted_data \u001b[38;5;241m=\u001b[39m \u001b[43mget_formatted_financial_data\u001b[49m\u001b[43m(\u001b[49m\u001b[43m)\u001b[49m\n",
      "File \u001b[1;32mc:\\Users\\hackathon\\DTCC_Sourcing\\FINRA_Source.py:147\u001b[0m, in \u001b[0;36mget_formatted_financial_data\u001b[1;34m()\u001b[0m\n\u001b[0;32m    146\u001b[0m \u001b[38;5;28;01mdef\u001b[39;00m\u001b[38;5;250m \u001b[39m\u001b[38;5;21mget_formatted_financial_data\u001b[39m():\n\u001b[1;32m--> 147\u001b[0m     records_list \u001b[38;5;241m=\u001b[39m \u001b[43mfetch_financial_data\u001b[49m\u001b[43m(\u001b[49m\u001b[43m)\u001b[49m\n\u001b[0;32m    148\u001b[0m     extracted_data \u001b[38;5;241m=\u001b[39m extract_financial_data(records_list)\n\u001b[0;32m    150\u001b[0m     \u001b[38;5;66;03m# Define the source and current date-time\u001b[39;00m\n",
      "File \u001b[1;32mc:\\Users\\hackathon\\DTCC_Sourcing\\FINRA_Source.py:93\u001b[0m, in \u001b[0;36mfetch_financial_data\u001b[1;34m()\u001b[0m\n\u001b[0;32m     90\u001b[0m pd\u001b[38;5;241m.\u001b[39mset_option(\u001b[38;5;124m'\u001b[39m\u001b[38;5;124mdisplay.width\u001b[39m\u001b[38;5;124m'\u001b[39m, \u001b[38;5;241m200\u001b[39m)\n\u001b[0;32m     91\u001b[0m pd\u001b[38;5;241m.\u001b[39mset_option(\u001b[38;5;124m'\u001b[39m\u001b[38;5;124mdisplay.max_columns\u001b[39m\u001b[38;5;124m'\u001b[39m, \u001b[38;5;241m8\u001b[39m)\n\u001b[1;32m---> 93\u001b[0m df \u001b[38;5;241m=\u001b[39m \u001b[43mpd\u001b[49m\u001b[38;5;241;43m.\u001b[39;49m\u001b[43mread_csv\u001b[49m\u001b[43m(\u001b[49m\u001b[43mStringIO\u001b[49m\u001b[43m(\u001b[49m\u001b[43mrequests\u001b[49m\u001b[38;5;241;43m.\u001b[39;49m\u001b[43mpost\u001b[49m\u001b[43m(\u001b[49m\u001b[43murl\u001b[49m\u001b[43m,\u001b[49m\u001b[43m \u001b[49m\u001b[43mjson\u001b[49m\u001b[38;5;241;43m=\u001b[39;49m\u001b[43mdata\u001b[49m\u001b[43m)\u001b[49m\u001b[38;5;241;43m.\u001b[39;49m\u001b[43mtext\u001b[49m\u001b[43m)\u001b[49m\u001b[43m,\u001b[49m\u001b[43m \u001b[49m\u001b[43mdelimiter\u001b[49m\u001b[38;5;241;43m=\u001b[39;49m\u001b[38;5;124;43m'\u001b[39;49m\u001b[38;5;124;43m|\u001b[39;49m\u001b[38;5;124;43m'\u001b[39;49m\u001b[43m)\u001b[49m\n\u001b[0;32m     94\u001b[0m df[\u001b[38;5;124m'\u001b[39m\u001b[38;5;124mdailyListDatetime\u001b[39m\u001b[38;5;124m'\u001b[39m] \u001b[38;5;241m=\u001b[39m pd\u001b[38;5;241m.\u001b[39mto_datetime(df[\u001b[38;5;124m'\u001b[39m\u001b[38;5;124mdailyListDatetime\u001b[39m\u001b[38;5;124m'\u001b[39m])\n\u001b[0;32m     95\u001b[0m \u001b[38;5;66;03m# from datetime import datetime, timedelta\u001b[39;00m\n\u001b[0;32m     96\u001b[0m \u001b[38;5;66;03m# import pytz\u001b[39;00m\n\u001b[0;32m     97\u001b[0m \n\u001b[0;32m     98\u001b[0m     \u001b[38;5;66;03m# Ensure the 'dailyListDatetime' column is in datetime format\u001b[39;00m\n",
      "File \u001b[1;32mc:\\Users\\hackathon\\DTCC_Sourcing\\.venv\\lib\\site-packages\\pandas\\io\\parsers\\readers.py:1026\u001b[0m, in \u001b[0;36mread_csv\u001b[1;34m(filepath_or_buffer, sep, delimiter, header, names, index_col, usecols, dtype, engine, converters, true_values, false_values, skipinitialspace, skiprows, skipfooter, nrows, na_values, keep_default_na, na_filter, verbose, skip_blank_lines, parse_dates, infer_datetime_format, keep_date_col, date_parser, date_format, dayfirst, cache_dates, iterator, chunksize, compression, thousands, decimal, lineterminator, quotechar, quoting, doublequote, escapechar, comment, encoding, encoding_errors, dialect, on_bad_lines, delim_whitespace, low_memory, memory_map, float_precision, storage_options, dtype_backend)\u001b[0m\n\u001b[0;32m   1013\u001b[0m kwds_defaults \u001b[38;5;241m=\u001b[39m _refine_defaults_read(\n\u001b[0;32m   1014\u001b[0m     dialect,\n\u001b[0;32m   1015\u001b[0m     delimiter,\n\u001b[1;32m   (...)\u001b[0m\n\u001b[0;32m   1022\u001b[0m     dtype_backend\u001b[38;5;241m=\u001b[39mdtype_backend,\n\u001b[0;32m   1023\u001b[0m )\n\u001b[0;32m   1024\u001b[0m kwds\u001b[38;5;241m.\u001b[39mupdate(kwds_defaults)\n\u001b[1;32m-> 1026\u001b[0m \u001b[38;5;28;01mreturn\u001b[39;00m \u001b[43m_read\u001b[49m\u001b[43m(\u001b[49m\u001b[43mfilepath_or_buffer\u001b[49m\u001b[43m,\u001b[49m\u001b[43m \u001b[49m\u001b[43mkwds\u001b[49m\u001b[43m)\u001b[49m\n",
      "File \u001b[1;32mc:\\Users\\hackathon\\DTCC_Sourcing\\.venv\\lib\\site-packages\\pandas\\io\\parsers\\readers.py:620\u001b[0m, in \u001b[0;36m_read\u001b[1;34m(filepath_or_buffer, kwds)\u001b[0m\n\u001b[0;32m    617\u001b[0m _validate_names(kwds\u001b[38;5;241m.\u001b[39mget(\u001b[38;5;124m\"\u001b[39m\u001b[38;5;124mnames\u001b[39m\u001b[38;5;124m\"\u001b[39m, \u001b[38;5;28;01mNone\u001b[39;00m))\n\u001b[0;32m    619\u001b[0m \u001b[38;5;66;03m# Create the parser.\u001b[39;00m\n\u001b[1;32m--> 620\u001b[0m parser \u001b[38;5;241m=\u001b[39m TextFileReader(filepath_or_buffer, \u001b[38;5;241m*\u001b[39m\u001b[38;5;241m*\u001b[39mkwds)\n\u001b[0;32m    622\u001b[0m \u001b[38;5;28;01mif\u001b[39;00m chunksize \u001b[38;5;129;01mor\u001b[39;00m iterator:\n\u001b[0;32m    623\u001b[0m     \u001b[38;5;28;01mreturn\u001b[39;00m parser\n",
      "File \u001b[1;32mc:\\Users\\hackathon\\DTCC_Sourcing\\.venv\\lib\\site-packages\\pandas\\io\\parsers\\readers.py:1620\u001b[0m, in \u001b[0;36mTextFileReader.__init__\u001b[1;34m(self, f, engine, **kwds)\u001b[0m\n\u001b[0;32m   1617\u001b[0m     \u001b[38;5;28mself\u001b[39m\u001b[38;5;241m.\u001b[39moptions[\u001b[38;5;124m\"\u001b[39m\u001b[38;5;124mhas_index_names\u001b[39m\u001b[38;5;124m\"\u001b[39m] \u001b[38;5;241m=\u001b[39m kwds[\u001b[38;5;124m\"\u001b[39m\u001b[38;5;124mhas_index_names\u001b[39m\u001b[38;5;124m\"\u001b[39m]\n\u001b[0;32m   1619\u001b[0m \u001b[38;5;28mself\u001b[39m\u001b[38;5;241m.\u001b[39mhandles: IOHandles \u001b[38;5;241m|\u001b[39m \u001b[38;5;28;01mNone\u001b[39;00m \u001b[38;5;241m=\u001b[39m \u001b[38;5;28;01mNone\u001b[39;00m\n\u001b[1;32m-> 1620\u001b[0m \u001b[38;5;28mself\u001b[39m\u001b[38;5;241m.\u001b[39m_engine \u001b[38;5;241m=\u001b[39m \u001b[38;5;28;43mself\u001b[39;49m\u001b[38;5;241;43m.\u001b[39;49m\u001b[43m_make_engine\u001b[49m\u001b[43m(\u001b[49m\u001b[43mf\u001b[49m\u001b[43m,\u001b[49m\u001b[43m \u001b[49m\u001b[38;5;28;43mself\u001b[39;49m\u001b[38;5;241;43m.\u001b[39;49m\u001b[43mengine\u001b[49m\u001b[43m)\u001b[49m\n",
      "File \u001b[1;32mc:\\Users\\hackathon\\DTCC_Sourcing\\.venv\\lib\\site-packages\\pandas\\io\\parsers\\readers.py:1898\u001b[0m, in \u001b[0;36mTextFileReader._make_engine\u001b[1;34m(self, f, engine)\u001b[0m\n\u001b[0;32m   1895\u001b[0m     \u001b[38;5;28;01mraise\u001b[39;00m \u001b[38;5;167;01mValueError\u001b[39;00m(msg)\n\u001b[0;32m   1897\u001b[0m \u001b[38;5;28;01mtry\u001b[39;00m:\n\u001b[1;32m-> 1898\u001b[0m     \u001b[38;5;28;01mreturn\u001b[39;00m mapping[engine](f, \u001b[38;5;241m*\u001b[39m\u001b[38;5;241m*\u001b[39m\u001b[38;5;28mself\u001b[39m\u001b[38;5;241m.\u001b[39moptions)\n\u001b[0;32m   1899\u001b[0m \u001b[38;5;28;01mexcept\u001b[39;00m \u001b[38;5;167;01mException\u001b[39;00m:\n\u001b[0;32m   1900\u001b[0m     \u001b[38;5;28;01mif\u001b[39;00m \u001b[38;5;28mself\u001b[39m\u001b[38;5;241m.\u001b[39mhandles \u001b[38;5;129;01mis\u001b[39;00m \u001b[38;5;129;01mnot\u001b[39;00m \u001b[38;5;28;01mNone\u001b[39;00m:\n",
      "File \u001b[1;32mc:\\Users\\hackathon\\DTCC_Sourcing\\.venv\\lib\\site-packages\\pandas\\io\\parsers\\c_parser_wrapper.py:93\u001b[0m, in \u001b[0;36mCParserWrapper.__init__\u001b[1;34m(self, src, **kwds)\u001b[0m\n\u001b[0;32m     90\u001b[0m \u001b[38;5;28;01mif\u001b[39;00m kwds[\u001b[38;5;124m\"\u001b[39m\u001b[38;5;124mdtype_backend\u001b[39m\u001b[38;5;124m\"\u001b[39m] \u001b[38;5;241m==\u001b[39m \u001b[38;5;124m\"\u001b[39m\u001b[38;5;124mpyarrow\u001b[39m\u001b[38;5;124m\"\u001b[39m:\n\u001b[0;32m     91\u001b[0m     \u001b[38;5;66;03m# Fail here loudly instead of in cython after reading\u001b[39;00m\n\u001b[0;32m     92\u001b[0m     import_optional_dependency(\u001b[38;5;124m\"\u001b[39m\u001b[38;5;124mpyarrow\u001b[39m\u001b[38;5;124m\"\u001b[39m)\n\u001b[1;32m---> 93\u001b[0m \u001b[38;5;28mself\u001b[39m\u001b[38;5;241m.\u001b[39m_reader \u001b[38;5;241m=\u001b[39m parsers\u001b[38;5;241m.\u001b[39mTextReader(src, \u001b[38;5;241m*\u001b[39m\u001b[38;5;241m*\u001b[39mkwds)\n\u001b[0;32m     95\u001b[0m \u001b[38;5;28mself\u001b[39m\u001b[38;5;241m.\u001b[39munnamed_cols \u001b[38;5;241m=\u001b[39m \u001b[38;5;28mself\u001b[39m\u001b[38;5;241m.\u001b[39m_reader\u001b[38;5;241m.\u001b[39munnamed_cols\n\u001b[0;32m     97\u001b[0m \u001b[38;5;66;03m# error: Cannot determine type of 'names'\u001b[39;00m\n",
      "File \u001b[1;32mparsers.pyx:581\u001b[0m, in \u001b[0;36mpandas._libs.parsers.TextReader.__cinit__\u001b[1;34m()\u001b[0m\n",
      "\u001b[1;31mEmptyDataError\u001b[0m: No columns to parse from file"
     ]
    }
   ],
   "source": [
    "extracted_data = get_formatted_financial_data()"
   ]
  },
  {
   "cell_type": "code",
   "execution_count": null,
   "metadata": {},
   "outputs": [],
   "source": []
  }
 ],
 "metadata": {
  "kernelspec": {
   "display_name": ".venv",
   "language": "python",
   "name": "python3"
  },
  "language_info": {
   "codemirror_mode": {
    "name": "ipython",
    "version": 3
   },
   "file_extension": ".py",
   "mimetype": "text/x-python",
   "name": "python",
   "nbconvert_exporter": "python",
   "pygments_lexer": "ipython3",
   "version": "3.10.0"
  }
 },
 "nbformat": 4,
 "nbformat_minor": 2
}
