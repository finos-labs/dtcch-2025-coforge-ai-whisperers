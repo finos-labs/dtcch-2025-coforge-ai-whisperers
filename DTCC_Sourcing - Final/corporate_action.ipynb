{
 "cells": [
  {
   "cell_type": "code",
   "execution_count": 1,
   "metadata": {},
   "outputs": [],
   "source": [
    "from CORPORATE_ACTIONS_PDFS_Source import Corporate_actions_formatted_data\n",
    "import time\n",
    "import requests\n",
    "import datetime"
   ]
  },
  {
   "cell_type": "code",
   "execution_count": 3,
   "metadata": {},
   "outputs": [
    {
     "ename": "KeyError",
     "evalue": "'Corporate_Action'",
     "output_type": "error",
     "traceback": [
      "\u001b[1;31m---------------------------------------------------------------------------\u001b[0m",
      "\u001b[1;31mKeyError\u001b[0m                                  Traceback (most recent call last)",
      "Cell \u001b[1;32mIn[3], line 3\u001b[0m\n\u001b[0;32m      1\u001b[0m start_time \u001b[38;5;241m=\u001b[39m time\u001b[38;5;241m.\u001b[39mtime()  \u001b[38;5;66;03m# Start time\u001b[39;00m\n\u001b[1;32m----> 3\u001b[0m records \u001b[38;5;241m=\u001b[39m \u001b[43mCorporate_actions_formatted_data\u001b[49m\u001b[43m(\u001b[49m\u001b[43m)\u001b[49m  \u001b[38;5;66;03m# Fetch data\u001b[39;00m\n\u001b[0;32m      5\u001b[0m end_time \u001b[38;5;241m=\u001b[39m time\u001b[38;5;241m.\u001b[39mtime()  \u001b[38;5;66;03m# End time\u001b[39;00m\n\u001b[0;32m      6\u001b[0m execution_time \u001b[38;5;241m=\u001b[39m \u001b[38;5;28mround\u001b[39m(end_time \u001b[38;5;241m-\u001b[39m start_time, \u001b[38;5;241m2\u001b[39m)  \u001b[38;5;66;03m# Time taken in seconds\u001b[39;00m\n",
      "File \u001b[1;32mc:\\Users\\hackathon\\DTCC_Sourcing\\CORPORATE_ACTIONS_PDFS_Source.py:103\u001b[0m, in \u001b[0;36mCorporate_actions_formatted_data\u001b[1;34m()\u001b[0m\n\u001b[0;32m    101\u001b[0m \u001b[38;5;66;03m# Step 4: Create a DataFrame and filter out \"No Corporate Action Found\" records\u001b[39;00m\n\u001b[0;32m    102\u001b[0m df \u001b[38;5;241m=\u001b[39m pd\u001b[38;5;241m.\u001b[39mDataFrame(formatted_data)\n\u001b[1;32m--> 103\u001b[0m df \u001b[38;5;241m=\u001b[39m df[\u001b[43mdf\u001b[49m\u001b[43m[\u001b[49m\u001b[38;5;124;43m\"\u001b[39;49m\u001b[38;5;124;43mCorporate_Action\u001b[39;49m\u001b[38;5;124;43m\"\u001b[39;49m\u001b[43m]\u001b[49m \u001b[38;5;241m!=\u001b[39m \u001b[38;5;124m\"\u001b[39m\u001b[38;5;124mNo Corporate Action Found\u001b[39m\u001b[38;5;124m\"\u001b[39m]\n\u001b[0;32m    104\u001b[0m folder_path \u001b[38;5;241m=\u001b[39m \u001b[38;5;124m'\u001b[39m\u001b[38;5;124mCORPORATE_PDFS_Raw_Data\u001b[39m\u001b[38;5;124m'\u001b[39m\n\u001b[0;32m    105\u001b[0m os\u001b[38;5;241m.\u001b[39mmakedirs(folder_path, exist_ok\u001b[38;5;241m=\u001b[39m\u001b[38;5;28;01mTrue\u001b[39;00m)\n",
      "File \u001b[1;32mc:\\Users\\hackathon\\DTCC_Sourcing\\.venv\\lib\\site-packages\\pandas\\core\\frame.py:4102\u001b[0m, in \u001b[0;36mDataFrame.__getitem__\u001b[1;34m(self, key)\u001b[0m\n\u001b[0;32m   4100\u001b[0m \u001b[38;5;28;01mif\u001b[39;00m \u001b[38;5;28mself\u001b[39m\u001b[38;5;241m.\u001b[39mcolumns\u001b[38;5;241m.\u001b[39mnlevels \u001b[38;5;241m>\u001b[39m \u001b[38;5;241m1\u001b[39m:\n\u001b[0;32m   4101\u001b[0m     \u001b[38;5;28;01mreturn\u001b[39;00m \u001b[38;5;28mself\u001b[39m\u001b[38;5;241m.\u001b[39m_getitem_multilevel(key)\n\u001b[1;32m-> 4102\u001b[0m indexer \u001b[38;5;241m=\u001b[39m \u001b[38;5;28;43mself\u001b[39;49m\u001b[38;5;241;43m.\u001b[39;49m\u001b[43mcolumns\u001b[49m\u001b[38;5;241;43m.\u001b[39;49m\u001b[43mget_loc\u001b[49m\u001b[43m(\u001b[49m\u001b[43mkey\u001b[49m\u001b[43m)\u001b[49m\n\u001b[0;32m   4103\u001b[0m \u001b[38;5;28;01mif\u001b[39;00m is_integer(indexer):\n\u001b[0;32m   4104\u001b[0m     indexer \u001b[38;5;241m=\u001b[39m [indexer]\n",
      "File \u001b[1;32mc:\\Users\\hackathon\\DTCC_Sourcing\\.venv\\lib\\site-packages\\pandas\\core\\indexes\\range.py:417\u001b[0m, in \u001b[0;36mRangeIndex.get_loc\u001b[1;34m(self, key)\u001b[0m\n\u001b[0;32m    415\u001b[0m         \u001b[38;5;28;01mraise\u001b[39;00m \u001b[38;5;167;01mKeyError\u001b[39;00m(key) \u001b[38;5;28;01mfrom\u001b[39;00m\u001b[38;5;250m \u001b[39m\u001b[38;5;21;01merr\u001b[39;00m\n\u001b[0;32m    416\u001b[0m \u001b[38;5;28;01mif\u001b[39;00m \u001b[38;5;28misinstance\u001b[39m(key, Hashable):\n\u001b[1;32m--> 417\u001b[0m     \u001b[38;5;28;01mraise\u001b[39;00m \u001b[38;5;167;01mKeyError\u001b[39;00m(key)\n\u001b[0;32m    418\u001b[0m \u001b[38;5;28mself\u001b[39m\u001b[38;5;241m.\u001b[39m_check_indexing_error(key)\n\u001b[0;32m    419\u001b[0m \u001b[38;5;28;01mraise\u001b[39;00m \u001b[38;5;167;01mKeyError\u001b[39;00m(key)\n",
      "\u001b[1;31mKeyError\u001b[0m: 'Corporate_Action'"
     ]
    }
   ],
   "source": [
    "start_time = time.time()  # Start time\n",
    "\n",
    "records = Corporate_actions_formatted_data()  # Fetch data\n",
    "\n",
    "end_time = time.time()  # End time\n",
    "execution_time = round(end_time - start_time, 2)  # Time taken in seconds\n",
    "\n",
    "total_records = len(records)  # Count of records\n",
    "status = \"Success\" if total_records > 0 else \"Unsuccess\"  # Status based on record count\n",
    "\n",
    "current_time = datetime.datetime.utcnow().strftime(\"%Y-%m-%dT%H:%M:%SZ\")  # Current UTC time\n",
    "\n",
    "# Payload for API request\n",
    "log_data = {\n",
    "    \"Scheduler_Name\": \"Corporate Actions PDFs\",\n",
    "    \"Source\": \"PDFS\",\n",
    "    \"Date_Time_Scheduler_Ran\": current_time,\n",
    "    \"Total_Records_Fetched\": total_records,\n",
    "    \"Time_Taken\": execution_time,\n",
    "    \"Status\": status\n",
    "}\n",
    "\n",
    "# API endpoint\n",
    "url = \"http://74.249.184.110:8000/insert-scheduler-log/\"\n",
    "\n",
    "# Send POST request\n",
    "response = requests.post(url, json=log_data)\n",
    "\n",
    "# Print response\n",
    "print(f\"API Response: {response.status_code}, {response.text}\")\n"
   ]
  },
  {
   "cell_type": "code",
   "execution_count": 1,
   "metadata": {},
   "outputs": [
    {
     "ename": "NameError",
     "evalue": "name 'k' is not defined",
     "output_type": "error",
     "traceback": [
      "\u001b[1;31m---------------------------------------------------------------------------\u001b[0m",
      "\u001b[1;31mNameError\u001b[0m                                 Traceback (most recent call last)",
      "Cell \u001b[1;32mIn[1], line 1\u001b[0m\n\u001b[1;32m----> 1\u001b[0m \u001b[38;5;28mprint\u001b[39m(\u001b[43mk\u001b[49m)\n",
      "\u001b[1;31mNameError\u001b[0m: name 'k' is not defined"
     ]
    }
   ],
   "source": [
    "print(k)"
   ]
  },
  {
   "cell_type": "code",
   "execution_count": 13,
   "metadata": {},
   "outputs": [
    {
     "name": "stdout",
     "output_type": "stream",
     "text": [
      "Based on the financial record provided:\n",
      "\n",
      "Company_Name: Token Communities Ltd.\n",
      "Company_Symbol: TKCM\n",
      "Value_Date: June 30, 2024\n",
      "Custodian_ID: \n",
      "Account_Number: \n",
      "Settlement_Amount: \n",
      "Currency: USD\n",
      "Tax_Details: \n",
      "Eligibility: \n",
      "Debit_Security_Details: \n",
      "Remarks: \n",
      "Ex-Date: \n",
      "Credit_New_Security_Asset_ID: \n",
      "Stock_Merger_Ratio: \n",
      "Dividend_Ratio:\n"
     ]
    }
   ],
   "source": [
    "print(k[0]['Extracted_Information'])"
   ]
  },
  {
   "cell_type": "code",
   "execution_count": 14,
   "metadata": {},
   "outputs": [
    {
     "name": "stdout",
     "output_type": "stream",
     "text": [
      "Status Code: 200, Response: {'message': \"New record inserted with status 'Not Verified'\"}\n"
     ]
    }
   ],
   "source": [
    "import requests\n",
    "\n",
    "# Define the API endpoint\n",
    "url = \"http://74.249.184.110:8000/insert-corporate-action/\"\n",
    "\n",
    "# Select the first 3 elements\n",
    "first_three_records = k\n",
    "\n",
    "# Loop through the first three elements and send POST requests\n",
    "for record in first_three_records:\n",
    "    response = requests.post(url, json=record)\n",
    "    print(f\"Status Code: {response.status_code}, Response: {response.json()}\")"
   ]
  },
  {
   "cell_type": "code",
   "execution_count": 5,
   "metadata": {},
   "outputs": [
    {
     "ename": "IndexError",
     "evalue": "list index out of range",
     "output_type": "error",
     "traceback": [
      "\u001b[1;31m---------------------------------------------------------------------------\u001b[0m",
      "\u001b[1;31mIndexError\u001b[0m                                Traceback (most recent call last)",
      "Cell \u001b[1;32mIn[5], line 1\u001b[0m\n\u001b[1;32m----> 1\u001b[0m \u001b[43mk\u001b[49m\u001b[43m[\u001b[49m\u001b[38;5;241;43m7\u001b[39;49m\u001b[43m]\u001b[49m\n",
      "\u001b[1;31mIndexError\u001b[0m: list index out of range"
     ]
    }
   ],
   "source": [
    "k[7]"
   ]
  },
  {
   "cell_type": "code",
   "execution_count": 6,
   "metadata": {},
   "outputs": [
    {
     "data": {
      "text/plain": [
       "{'Company': 'Tonix Pharmaceuticals Holding Corp.',\n",
       " 'Corporate_Action': 'Reverse Split',\n",
       " 'Date_Announcement': 'February 3, 2025',\n",
       " 'Source': '2025-02-03_Tonix_Pharmaceuticals_Announces_1_for_100_Reverse__1545.pdf',\n",
       " 'Extracted_Information': 'Company_Name: Tonix Pharmaceuticals Holding Corp.\\nCompany_Symbol: TNXP\\nValue_Date: February 5, 2025\\nCustodian_ID: \\nAccount_Number: \\nSettlement_Amount: \\nCurrency: \\nTax_Details: \\nEligibility: \\nDebit_Security_Details: \\nRemarks: \\nReverse_Split_Ratio: 1:100\\nEx-Date: February 5, 2025\\nRecord_Date: \\nAnnouncement_Date: February 3, 2025\\nAdjusted_Share_Price_and_Quantity: \\nAdjustment_Factor: \\nCredit_New_Security_Asset_ID: 890260839',\n",
       " 'Insertion_Date_Time': '2025-02-06 05:05:09',\n",
       " 'Modified_Date_Time': '2025-02-06 05:05:09'}"
      ]
     },
     "execution_count": 6,
     "metadata": {},
     "output_type": "execute_result"
    }
   ],
   "source": [
    "k[0]"
   ]
  },
  {
   "cell_type": "code",
   "execution_count": 4,
   "metadata": {},
   "outputs": [],
   "source": [
    "\n",
    "from Bussiness_Wire_Source import fetch_and_process_corporate_actions"
   ]
  },
  {
   "cell_type": "code",
   "execution_count": 9,
   "metadata": {},
   "outputs": [
    {
     "name": "stdout",
     "output_type": "stream",
     "text": [
      "Starting the article scraping process...\n"
     ]
    },
    {
     "ename": "MaxRetryError",
     "evalue": "HTTPConnectionPool(host='localhost', port=58431): Max retries exceeded with url: /session/5abb9983d027206fe3c5a424434ad4d5/url (Caused by NewConnectionError('<urllib3.connection.HTTPConnection object at 0x00000225AB932DA0>: Failed to establish a new connection: [WinError 10061] No connection could be made because the target machine actively refused it'))",
     "output_type": "error",
     "traceback": [
      "\u001b[1;31m---------------------------------------------------------------------------\u001b[0m",
      "\u001b[1;31mConnectionRefusedError\u001b[0m                    Traceback (most recent call last)",
      "File \u001b[1;32mc:\\Users\\hackathon\\DTCC_Sourcing\\.venv\\lib\\site-packages\\urllib3\\connection.py:198\u001b[0m, in \u001b[0;36mHTTPConnection._new_conn\u001b[1;34m(self)\u001b[0m\n\u001b[0;32m    197\u001b[0m \u001b[38;5;28;01mtry\u001b[39;00m:\n\u001b[1;32m--> 198\u001b[0m     sock \u001b[38;5;241m=\u001b[39m \u001b[43mconnection\u001b[49m\u001b[38;5;241;43m.\u001b[39;49m\u001b[43mcreate_connection\u001b[49m\u001b[43m(\u001b[49m\n\u001b[0;32m    199\u001b[0m \u001b[43m        \u001b[49m\u001b[43m(\u001b[49m\u001b[38;5;28;43mself\u001b[39;49m\u001b[38;5;241;43m.\u001b[39;49m\u001b[43m_dns_host\u001b[49m\u001b[43m,\u001b[49m\u001b[43m \u001b[49m\u001b[38;5;28;43mself\u001b[39;49m\u001b[38;5;241;43m.\u001b[39;49m\u001b[43mport\u001b[49m\u001b[43m)\u001b[49m\u001b[43m,\u001b[49m\n\u001b[0;32m    200\u001b[0m \u001b[43m        \u001b[49m\u001b[38;5;28;43mself\u001b[39;49m\u001b[38;5;241;43m.\u001b[39;49m\u001b[43mtimeout\u001b[49m\u001b[43m,\u001b[49m\n\u001b[0;32m    201\u001b[0m \u001b[43m        \u001b[49m\u001b[43msource_address\u001b[49m\u001b[38;5;241;43m=\u001b[39;49m\u001b[38;5;28;43mself\u001b[39;49m\u001b[38;5;241;43m.\u001b[39;49m\u001b[43msource_address\u001b[49m\u001b[43m,\u001b[49m\n\u001b[0;32m    202\u001b[0m \u001b[43m        \u001b[49m\u001b[43msocket_options\u001b[49m\u001b[38;5;241;43m=\u001b[39;49m\u001b[38;5;28;43mself\u001b[39;49m\u001b[38;5;241;43m.\u001b[39;49m\u001b[43msocket_options\u001b[49m\u001b[43m,\u001b[49m\n\u001b[0;32m    203\u001b[0m \u001b[43m    \u001b[49m\u001b[43m)\u001b[49m\n\u001b[0;32m    204\u001b[0m \u001b[38;5;28;01mexcept\u001b[39;00m socket\u001b[38;5;241m.\u001b[39mgaierror \u001b[38;5;28;01mas\u001b[39;00m e:\n",
      "File \u001b[1;32mc:\\Users\\hackathon\\DTCC_Sourcing\\.venv\\lib\\site-packages\\urllib3\\util\\connection.py:85\u001b[0m, in \u001b[0;36mcreate_connection\u001b[1;34m(address, timeout, source_address, socket_options)\u001b[0m\n\u001b[0;32m     84\u001b[0m \u001b[38;5;28;01mtry\u001b[39;00m:\n\u001b[1;32m---> 85\u001b[0m     \u001b[38;5;28;01mraise\u001b[39;00m err\n\u001b[0;32m     86\u001b[0m \u001b[38;5;28;01mfinally\u001b[39;00m:\n\u001b[0;32m     87\u001b[0m     \u001b[38;5;66;03m# Break explicitly a reference cycle\u001b[39;00m\n",
      "File \u001b[1;32mc:\\Users\\hackathon\\DTCC_Sourcing\\.venv\\lib\\site-packages\\urllib3\\util\\connection.py:73\u001b[0m, in \u001b[0;36mcreate_connection\u001b[1;34m(address, timeout, source_address, socket_options)\u001b[0m\n\u001b[0;32m     72\u001b[0m     sock\u001b[38;5;241m.\u001b[39mbind(source_address)\n\u001b[1;32m---> 73\u001b[0m \u001b[43msock\u001b[49m\u001b[38;5;241;43m.\u001b[39;49m\u001b[43mconnect\u001b[49m\u001b[43m(\u001b[49m\u001b[43msa\u001b[49m\u001b[43m)\u001b[49m\n\u001b[0;32m     74\u001b[0m \u001b[38;5;66;03m# Break explicitly a reference cycle\u001b[39;00m\n",
      "\u001b[1;31mConnectionRefusedError\u001b[0m: [WinError 10061] No connection could be made because the target machine actively refused it",
      "\nThe above exception was the direct cause of the following exception:\n",
      "\u001b[1;31mNewConnectionError\u001b[0m                        Traceback (most recent call last)",
      "File \u001b[1;32mc:\\Users\\hackathon\\DTCC_Sourcing\\.venv\\lib\\site-packages\\urllib3\\connectionpool.py:787\u001b[0m, in \u001b[0;36mHTTPConnectionPool.urlopen\u001b[1;34m(self, method, url, body, headers, retries, redirect, assert_same_host, timeout, pool_timeout, release_conn, chunked, body_pos, preload_content, decode_content, **response_kw)\u001b[0m\n\u001b[0;32m    786\u001b[0m \u001b[38;5;66;03m# Make the request on the HTTPConnection object\u001b[39;00m\n\u001b[1;32m--> 787\u001b[0m response \u001b[38;5;241m=\u001b[39m \u001b[38;5;28mself\u001b[39m\u001b[38;5;241m.\u001b[39m_make_request(\n\u001b[0;32m    788\u001b[0m     conn,\n\u001b[0;32m    789\u001b[0m     method,\n\u001b[0;32m    790\u001b[0m     url,\n\u001b[0;32m    791\u001b[0m     timeout\u001b[38;5;241m=\u001b[39mtimeout_obj,\n\u001b[0;32m    792\u001b[0m     body\u001b[38;5;241m=\u001b[39mbody,\n\u001b[0;32m    793\u001b[0m     headers\u001b[38;5;241m=\u001b[39mheaders,\n\u001b[0;32m    794\u001b[0m     chunked\u001b[38;5;241m=\u001b[39mchunked,\n\u001b[0;32m    795\u001b[0m     retries\u001b[38;5;241m=\u001b[39mretries,\n\u001b[0;32m    796\u001b[0m     response_conn\u001b[38;5;241m=\u001b[39mresponse_conn,\n\u001b[0;32m    797\u001b[0m     preload_content\u001b[38;5;241m=\u001b[39mpreload_content,\n\u001b[0;32m    798\u001b[0m     decode_content\u001b[38;5;241m=\u001b[39mdecode_content,\n\u001b[0;32m    799\u001b[0m     \u001b[38;5;241m*\u001b[39m\u001b[38;5;241m*\u001b[39mresponse_kw,\n\u001b[0;32m    800\u001b[0m )\n\u001b[0;32m    802\u001b[0m \u001b[38;5;66;03m# Everything went great!\u001b[39;00m\n",
      "File \u001b[1;32mc:\\Users\\hackathon\\DTCC_Sourcing\\.venv\\lib\\site-packages\\urllib3\\connectionpool.py:493\u001b[0m, in \u001b[0;36mHTTPConnectionPool._make_request\u001b[1;34m(self, conn, method, url, body, headers, retries, timeout, chunked, response_conn, preload_content, decode_content, enforce_content_length)\u001b[0m\n\u001b[0;32m    492\u001b[0m \u001b[38;5;28;01mtry\u001b[39;00m:\n\u001b[1;32m--> 493\u001b[0m     \u001b[43mconn\u001b[49m\u001b[38;5;241;43m.\u001b[39;49m\u001b[43mrequest\u001b[49m\u001b[43m(\u001b[49m\n\u001b[0;32m    494\u001b[0m \u001b[43m        \u001b[49m\u001b[43mmethod\u001b[49m\u001b[43m,\u001b[49m\n\u001b[0;32m    495\u001b[0m \u001b[43m        \u001b[49m\u001b[43murl\u001b[49m\u001b[43m,\u001b[49m\n\u001b[0;32m    496\u001b[0m \u001b[43m        \u001b[49m\u001b[43mbody\u001b[49m\u001b[38;5;241;43m=\u001b[39;49m\u001b[43mbody\u001b[49m\u001b[43m,\u001b[49m\n\u001b[0;32m    497\u001b[0m \u001b[43m        \u001b[49m\u001b[43mheaders\u001b[49m\u001b[38;5;241;43m=\u001b[39;49m\u001b[43mheaders\u001b[49m\u001b[43m,\u001b[49m\n\u001b[0;32m    498\u001b[0m \u001b[43m        \u001b[49m\u001b[43mchunked\u001b[49m\u001b[38;5;241;43m=\u001b[39;49m\u001b[43mchunked\u001b[49m\u001b[43m,\u001b[49m\n\u001b[0;32m    499\u001b[0m \u001b[43m        \u001b[49m\u001b[43mpreload_content\u001b[49m\u001b[38;5;241;43m=\u001b[39;49m\u001b[43mpreload_content\u001b[49m\u001b[43m,\u001b[49m\n\u001b[0;32m    500\u001b[0m \u001b[43m        \u001b[49m\u001b[43mdecode_content\u001b[49m\u001b[38;5;241;43m=\u001b[39;49m\u001b[43mdecode_content\u001b[49m\u001b[43m,\u001b[49m\n\u001b[0;32m    501\u001b[0m \u001b[43m        \u001b[49m\u001b[43menforce_content_length\u001b[49m\u001b[38;5;241;43m=\u001b[39;49m\u001b[43menforce_content_length\u001b[49m\u001b[43m,\u001b[49m\n\u001b[0;32m    502\u001b[0m \u001b[43m    \u001b[49m\u001b[43m)\u001b[49m\n\u001b[0;32m    504\u001b[0m \u001b[38;5;66;03m# We are swallowing BrokenPipeError (errno.EPIPE) since the server is\u001b[39;00m\n\u001b[0;32m    505\u001b[0m \u001b[38;5;66;03m# legitimately able to close the connection after sending a valid response.\u001b[39;00m\n\u001b[0;32m    506\u001b[0m \u001b[38;5;66;03m# With this behaviour, the received response is still readable.\u001b[39;00m\n",
      "File \u001b[1;32mc:\\Users\\hackathon\\DTCC_Sourcing\\.venv\\lib\\site-packages\\urllib3\\connection.py:445\u001b[0m, in \u001b[0;36mHTTPConnection.request\u001b[1;34m(self, method, url, body, headers, chunked, preload_content, decode_content, enforce_content_length)\u001b[0m\n\u001b[0;32m    444\u001b[0m     \u001b[38;5;28mself\u001b[39m\u001b[38;5;241m.\u001b[39mputheader(header, value)\n\u001b[1;32m--> 445\u001b[0m \u001b[38;5;28;43mself\u001b[39;49m\u001b[38;5;241;43m.\u001b[39;49m\u001b[43mendheaders\u001b[49m\u001b[43m(\u001b[49m\u001b[43m)\u001b[49m\n\u001b[0;32m    447\u001b[0m \u001b[38;5;66;03m# If we're given a body we start sending that in chunks.\u001b[39;00m\n",
      "File \u001b[1;32m~\\AppData\\Local\\Programs\\Python\\Python310\\lib\\http\\client.py:1271\u001b[0m, in \u001b[0;36mHTTPConnection.endheaders\u001b[1;34m(self, message_body, encode_chunked)\u001b[0m\n\u001b[0;32m   1270\u001b[0m     \u001b[38;5;28;01mraise\u001b[39;00m CannotSendHeader()\n\u001b[1;32m-> 1271\u001b[0m \u001b[38;5;28;43mself\u001b[39;49m\u001b[38;5;241;43m.\u001b[39;49m\u001b[43m_send_output\u001b[49m\u001b[43m(\u001b[49m\u001b[43mmessage_body\u001b[49m\u001b[43m,\u001b[49m\u001b[43m \u001b[49m\u001b[43mencode_chunked\u001b[49m\u001b[38;5;241;43m=\u001b[39;49m\u001b[43mencode_chunked\u001b[49m\u001b[43m)\u001b[49m\n",
      "File \u001b[1;32m~\\AppData\\Local\\Programs\\Python\\Python310\\lib\\http\\client.py:1031\u001b[0m, in \u001b[0;36mHTTPConnection._send_output\u001b[1;34m(self, message_body, encode_chunked)\u001b[0m\n\u001b[0;32m   1030\u001b[0m \u001b[38;5;28;01mdel\u001b[39;00m \u001b[38;5;28mself\u001b[39m\u001b[38;5;241m.\u001b[39m_buffer[:]\n\u001b[1;32m-> 1031\u001b[0m \u001b[38;5;28;43mself\u001b[39;49m\u001b[38;5;241;43m.\u001b[39;49m\u001b[43msend\u001b[49m\u001b[43m(\u001b[49m\u001b[43mmsg\u001b[49m\u001b[43m)\u001b[49m\n\u001b[0;32m   1033\u001b[0m \u001b[38;5;28;01mif\u001b[39;00m message_body \u001b[38;5;129;01mis\u001b[39;00m \u001b[38;5;129;01mnot\u001b[39;00m \u001b[38;5;28;01mNone\u001b[39;00m:\n\u001b[0;32m   1034\u001b[0m \n\u001b[0;32m   1035\u001b[0m     \u001b[38;5;66;03m# create a consistent interface to message_body\u001b[39;00m\n",
      "File \u001b[1;32m~\\AppData\\Local\\Programs\\Python\\Python310\\lib\\http\\client.py:969\u001b[0m, in \u001b[0;36mHTTPConnection.send\u001b[1;34m(self, data)\u001b[0m\n\u001b[0;32m    968\u001b[0m \u001b[38;5;28;01mif\u001b[39;00m \u001b[38;5;28mself\u001b[39m\u001b[38;5;241m.\u001b[39mauto_open:\n\u001b[1;32m--> 969\u001b[0m     \u001b[38;5;28;43mself\u001b[39;49m\u001b[38;5;241;43m.\u001b[39;49m\u001b[43mconnect\u001b[49m\u001b[43m(\u001b[49m\u001b[43m)\u001b[49m\n\u001b[0;32m    970\u001b[0m \u001b[38;5;28;01melse\u001b[39;00m:\n",
      "File \u001b[1;32mc:\\Users\\hackathon\\DTCC_Sourcing\\.venv\\lib\\site-packages\\urllib3\\connection.py:276\u001b[0m, in \u001b[0;36mHTTPConnection.connect\u001b[1;34m(self)\u001b[0m\n\u001b[0;32m    275\u001b[0m \u001b[38;5;28;01mdef\u001b[39;00m\u001b[38;5;250m \u001b[39m\u001b[38;5;21mconnect\u001b[39m(\u001b[38;5;28mself\u001b[39m) \u001b[38;5;241m-\u001b[39m\u001b[38;5;241m>\u001b[39m \u001b[38;5;28;01mNone\u001b[39;00m:\n\u001b[1;32m--> 276\u001b[0m     \u001b[38;5;28mself\u001b[39m\u001b[38;5;241m.\u001b[39msock \u001b[38;5;241m=\u001b[39m \u001b[38;5;28;43mself\u001b[39;49m\u001b[38;5;241;43m.\u001b[39;49m\u001b[43m_new_conn\u001b[49m\u001b[43m(\u001b[49m\u001b[43m)\u001b[49m\n\u001b[0;32m    277\u001b[0m     \u001b[38;5;28;01mif\u001b[39;00m \u001b[38;5;28mself\u001b[39m\u001b[38;5;241m.\u001b[39m_tunnel_host:\n\u001b[0;32m    278\u001b[0m         \u001b[38;5;66;03m# If we're tunneling it means we're connected to our proxy.\u001b[39;00m\n",
      "File \u001b[1;32mc:\\Users\\hackathon\\DTCC_Sourcing\\.venv\\lib\\site-packages\\urllib3\\connection.py:213\u001b[0m, in \u001b[0;36mHTTPConnection._new_conn\u001b[1;34m(self)\u001b[0m\n\u001b[0;32m    212\u001b[0m \u001b[38;5;28;01mexcept\u001b[39;00m \u001b[38;5;167;01mOSError\u001b[39;00m \u001b[38;5;28;01mas\u001b[39;00m e:\n\u001b[1;32m--> 213\u001b[0m     \u001b[38;5;28;01mraise\u001b[39;00m NewConnectionError(\n\u001b[0;32m    214\u001b[0m         \u001b[38;5;28mself\u001b[39m, \u001b[38;5;124mf\u001b[39m\u001b[38;5;124m\"\u001b[39m\u001b[38;5;124mFailed to establish a new connection: \u001b[39m\u001b[38;5;132;01m{\u001b[39;00me\u001b[38;5;132;01m}\u001b[39;00m\u001b[38;5;124m\"\u001b[39m\n\u001b[0;32m    215\u001b[0m     ) \u001b[38;5;28;01mfrom\u001b[39;00m\u001b[38;5;250m \u001b[39m\u001b[38;5;21;01me\u001b[39;00m\n\u001b[0;32m    217\u001b[0m sys\u001b[38;5;241m.\u001b[39maudit(\u001b[38;5;124m\"\u001b[39m\u001b[38;5;124mhttp.client.connect\u001b[39m\u001b[38;5;124m\"\u001b[39m, \u001b[38;5;28mself\u001b[39m, \u001b[38;5;28mself\u001b[39m\u001b[38;5;241m.\u001b[39mhost, \u001b[38;5;28mself\u001b[39m\u001b[38;5;241m.\u001b[39mport)\n",
      "\u001b[1;31mNewConnectionError\u001b[0m: <urllib3.connection.HTTPConnection object at 0x00000225AB932DA0>: Failed to establish a new connection: [WinError 10061] No connection could be made because the target machine actively refused it",
      "\nThe above exception was the direct cause of the following exception:\n",
      "\u001b[1;31mMaxRetryError\u001b[0m                             Traceback (most recent call last)",
      "Cell \u001b[1;32mIn[9], line 3\u001b[0m\n\u001b[0;32m      1\u001b[0m start_time \u001b[38;5;241m=\u001b[39m time\u001b[38;5;241m.\u001b[39mtime()  \u001b[38;5;66;03m# Start time\u001b[39;00m\n\u001b[1;32m----> 3\u001b[0m records \u001b[38;5;241m=\u001b[39m \u001b[43mfetch_and_process_corporate_actions\u001b[49m\u001b[43m(\u001b[49m\u001b[43m)\u001b[49m  \u001b[38;5;66;03m# Fetch data\u001b[39;00m\n\u001b[0;32m      5\u001b[0m end_time \u001b[38;5;241m=\u001b[39m time\u001b[38;5;241m.\u001b[39mtime()  \u001b[38;5;66;03m# End time\u001b[39;00m\n\u001b[0;32m      6\u001b[0m execution_time \u001b[38;5;241m=\u001b[39m \u001b[38;5;28mround\u001b[39m(end_time \u001b[38;5;241m-\u001b[39m start_time, \u001b[38;5;241m2\u001b[39m)  \u001b[38;5;66;03m# Time taken in seconds\u001b[39;00m\n",
      "File \u001b[1;32mc:\\Users\\hackathon\\DTCC_Sourcing\\Bussiness_Wire_Source.py:205\u001b[0m, in \u001b[0;36mfetch_and_process_corporate_actions\u001b[1;34m()\u001b[0m\n\u001b[0;32m    202\u001b[0m \u001b[38;5;28;01mdef\u001b[39;00m\u001b[38;5;250m \u001b[39m\u001b[38;5;21mfetch_and_process_corporate_actions\u001b[39m():\n\u001b[0;32m    203\u001b[0m     \u001b[38;5;66;03m# Step 1: Scrape articles until time limit is reached\u001b[39;00m\n\u001b[0;32m    204\u001b[0m     \u001b[38;5;28mprint\u001b[39m(\u001b[38;5;124m\"\u001b[39m\u001b[38;5;124mStarting the article scraping process...\u001b[39m\u001b[38;5;124m\"\u001b[39m)\n\u001b[1;32m--> 205\u001b[0m     articles_data \u001b[38;5;241m=\u001b[39m \u001b[43mscrape_articles_until_time_limit\u001b[49m\u001b[43m(\u001b[49m\u001b[43mdriver\u001b[49m\u001b[43m)\u001b[49m\n\u001b[0;32m    207\u001b[0m     \u001b[38;5;66;03m# Close the WebDriver\u001b[39;00m\n\u001b[0;32m    208\u001b[0m     driver\u001b[38;5;241m.\u001b[39mquit()\n",
      "File \u001b[1;32mc:\\Users\\hackathon\\DTCC_Sourcing\\Bussiness_Wire_Source.py:92\u001b[0m, in \u001b[0;36mscrape_articles_until_time_limit\u001b[1;34m(driver)\u001b[0m\n\u001b[0;32m     90\u001b[0m \u001b[38;5;28;01mdef\u001b[39;00m\u001b[38;5;250m \u001b[39m\u001b[38;5;21mscrape_articles_until_time_limit\u001b[39m(driver):\n\u001b[0;32m     91\u001b[0m     base_url \u001b[38;5;241m=\u001b[39m \u001b[38;5;124m\"\u001b[39m\u001b[38;5;124mhttps://www.businesswire.com/portal/site/home/news/\u001b[39m\u001b[38;5;124m\"\u001b[39m\n\u001b[1;32m---> 92\u001b[0m     \u001b[43mdriver\u001b[49m\u001b[38;5;241;43m.\u001b[39;49m\u001b[43mget\u001b[49m\u001b[43m(\u001b[49m\u001b[43mbase_url\u001b[49m\u001b[43m)\u001b[49m\n\u001b[0;32m     93\u001b[0m     time\u001b[38;5;241m.\u001b[39msleep(\u001b[38;5;241m2\u001b[39m)  \u001b[38;5;66;03m# wait for the page to load\u001b[39;00m\n\u001b[0;32m     95\u001b[0m     all_articles \u001b[38;5;241m=\u001b[39m []\n",
      "File \u001b[1;32mc:\\Users\\hackathon\\DTCC_Sourcing\\.venv\\lib\\site-packages\\selenium\\webdriver\\remote\\webdriver.py:454\u001b[0m, in \u001b[0;36mWebDriver.get\u001b[1;34m(self, url)\u001b[0m\n\u001b[0;32m    436\u001b[0m \u001b[38;5;28;01mdef\u001b[39;00m\u001b[38;5;250m \u001b[39m\u001b[38;5;21mget\u001b[39m(\u001b[38;5;28mself\u001b[39m, url: \u001b[38;5;28mstr\u001b[39m) \u001b[38;5;241m-\u001b[39m\u001b[38;5;241m>\u001b[39m \u001b[38;5;28;01mNone\u001b[39;00m:\n\u001b[0;32m    437\u001b[0m \u001b[38;5;250m    \u001b[39m\u001b[38;5;124;03m\"\"\"Navigate the browser to the specified URL in the current window or\u001b[39;00m\n\u001b[0;32m    438\u001b[0m \u001b[38;5;124;03m    tab.\u001b[39;00m\n\u001b[0;32m    439\u001b[0m \n\u001b[1;32m   (...)\u001b[0m\n\u001b[0;32m    452\u001b[0m \u001b[38;5;124;03m    >>> driver.get(\"https://example.com\")\u001b[39;00m\n\u001b[0;32m    453\u001b[0m \u001b[38;5;124;03m    \"\"\"\u001b[39;00m\n\u001b[1;32m--> 454\u001b[0m     \u001b[38;5;28;43mself\u001b[39;49m\u001b[38;5;241;43m.\u001b[39;49m\u001b[43mexecute\u001b[49m\u001b[43m(\u001b[49m\u001b[43mCommand\u001b[49m\u001b[38;5;241;43m.\u001b[39;49m\u001b[43mGET\u001b[49m\u001b[43m,\u001b[49m\u001b[43m \u001b[49m\u001b[43m{\u001b[49m\u001b[38;5;124;43m\"\u001b[39;49m\u001b[38;5;124;43murl\u001b[39;49m\u001b[38;5;124;43m\"\u001b[39;49m\u001b[43m:\u001b[49m\u001b[43m \u001b[49m\u001b[43murl\u001b[49m\u001b[43m}\u001b[49m\u001b[43m)\u001b[49m\n",
      "File \u001b[1;32mc:\\Users\\hackathon\\DTCC_Sourcing\\.venv\\lib\\site-packages\\selenium\\webdriver\\remote\\webdriver.py:427\u001b[0m, in \u001b[0;36mWebDriver.execute\u001b[1;34m(self, driver_command, params)\u001b[0m\n\u001b[0;32m    424\u001b[0m     \u001b[38;5;28;01melif\u001b[39;00m \u001b[38;5;124m\"\u001b[39m\u001b[38;5;124msessionId\u001b[39m\u001b[38;5;124m\"\u001b[39m \u001b[38;5;129;01mnot\u001b[39;00m \u001b[38;5;129;01min\u001b[39;00m params:\n\u001b[0;32m    425\u001b[0m         params[\u001b[38;5;124m\"\u001b[39m\u001b[38;5;124msessionId\u001b[39m\u001b[38;5;124m\"\u001b[39m] \u001b[38;5;241m=\u001b[39m \u001b[38;5;28mself\u001b[39m\u001b[38;5;241m.\u001b[39msession_id\n\u001b[1;32m--> 427\u001b[0m response \u001b[38;5;241m=\u001b[39m \u001b[38;5;28;43mself\u001b[39;49m\u001b[38;5;241;43m.\u001b[39;49m\u001b[43mcommand_executor\u001b[49m\u001b[38;5;241;43m.\u001b[39;49m\u001b[43mexecute\u001b[49m\u001b[43m(\u001b[49m\u001b[43mdriver_command\u001b[49m\u001b[43m,\u001b[49m\u001b[43m \u001b[49m\u001b[43mparams\u001b[49m\u001b[43m)\u001b[49m\n\u001b[0;32m    428\u001b[0m \u001b[38;5;28;01mif\u001b[39;00m response:\n\u001b[0;32m    429\u001b[0m     \u001b[38;5;28mself\u001b[39m\u001b[38;5;241m.\u001b[39merror_handler\u001b[38;5;241m.\u001b[39mcheck_response(response)\n",
      "File \u001b[1;32mc:\\Users\\hackathon\\DTCC_Sourcing\\.venv\\lib\\site-packages\\selenium\\webdriver\\remote\\remote_connection.py:404\u001b[0m, in \u001b[0;36mRemoteConnection.execute\u001b[1;34m(self, command, params)\u001b[0m\n\u001b[0;32m    402\u001b[0m trimmed \u001b[38;5;241m=\u001b[39m \u001b[38;5;28mself\u001b[39m\u001b[38;5;241m.\u001b[39m_trim_large_entries(params)\n\u001b[0;32m    403\u001b[0m LOGGER\u001b[38;5;241m.\u001b[39mdebug(\u001b[38;5;124m\"\u001b[39m\u001b[38;5;132;01m%s\u001b[39;00m\u001b[38;5;124m \u001b[39m\u001b[38;5;132;01m%s\u001b[39;00m\u001b[38;5;124m \u001b[39m\u001b[38;5;132;01m%s\u001b[39;00m\u001b[38;5;124m\"\u001b[39m, command_info[\u001b[38;5;241m0\u001b[39m], url, \u001b[38;5;28mstr\u001b[39m(trimmed))\n\u001b[1;32m--> 404\u001b[0m \u001b[38;5;28;01mreturn\u001b[39;00m \u001b[38;5;28;43mself\u001b[39;49m\u001b[38;5;241;43m.\u001b[39;49m\u001b[43m_request\u001b[49m\u001b[43m(\u001b[49m\u001b[43mcommand_info\u001b[49m\u001b[43m[\u001b[49m\u001b[38;5;241;43m0\u001b[39;49m\u001b[43m]\u001b[49m\u001b[43m,\u001b[49m\u001b[43m \u001b[49m\u001b[43murl\u001b[49m\u001b[43m,\u001b[49m\u001b[43m \u001b[49m\u001b[43mbody\u001b[49m\u001b[38;5;241;43m=\u001b[39;49m\u001b[43mdata\u001b[49m\u001b[43m)\u001b[49m\n",
      "File \u001b[1;32mc:\\Users\\hackathon\\DTCC_Sourcing\\.venv\\lib\\site-packages\\selenium\\webdriver\\remote\\remote_connection.py:428\u001b[0m, in \u001b[0;36mRemoteConnection._request\u001b[1;34m(self, method, url, body)\u001b[0m\n\u001b[0;32m    425\u001b[0m     body \u001b[38;5;241m=\u001b[39m \u001b[38;5;28;01mNone\u001b[39;00m\n\u001b[0;32m    427\u001b[0m \u001b[38;5;28;01mif\u001b[39;00m \u001b[38;5;28mself\u001b[39m\u001b[38;5;241m.\u001b[39m_client_config\u001b[38;5;241m.\u001b[39mkeep_alive:\n\u001b[1;32m--> 428\u001b[0m     response \u001b[38;5;241m=\u001b[39m \u001b[38;5;28;43mself\u001b[39;49m\u001b[38;5;241;43m.\u001b[39;49m\u001b[43m_conn\u001b[49m\u001b[38;5;241;43m.\u001b[39;49m\u001b[43mrequest\u001b[49m\u001b[43m(\u001b[49m\u001b[43mmethod\u001b[49m\u001b[43m,\u001b[49m\u001b[43m \u001b[49m\u001b[43murl\u001b[49m\u001b[43m,\u001b[49m\u001b[43m \u001b[49m\u001b[43mbody\u001b[49m\u001b[38;5;241;43m=\u001b[39;49m\u001b[43mbody\u001b[49m\u001b[43m,\u001b[49m\u001b[43m \u001b[49m\u001b[43mheaders\u001b[49m\u001b[38;5;241;43m=\u001b[39;49m\u001b[43mheaders\u001b[49m\u001b[43m,\u001b[49m\u001b[43m \u001b[49m\u001b[43mtimeout\u001b[49m\u001b[38;5;241;43m=\u001b[39;49m\u001b[38;5;28;43mself\u001b[39;49m\u001b[38;5;241;43m.\u001b[39;49m\u001b[43m_client_config\u001b[49m\u001b[38;5;241;43m.\u001b[39;49m\u001b[43mtimeout\u001b[49m\u001b[43m)\u001b[49m\n\u001b[0;32m    429\u001b[0m     statuscode \u001b[38;5;241m=\u001b[39m response\u001b[38;5;241m.\u001b[39mstatus\n\u001b[0;32m    430\u001b[0m \u001b[38;5;28;01melse\u001b[39;00m:\n",
      "File \u001b[1;32mc:\\Users\\hackathon\\DTCC_Sourcing\\.venv\\lib\\site-packages\\urllib3\\_request_methods.py:143\u001b[0m, in \u001b[0;36mRequestMethods.request\u001b[1;34m(self, method, url, body, fields, headers, json, **urlopen_kw)\u001b[0m\n\u001b[0;32m    135\u001b[0m     \u001b[38;5;28;01mreturn\u001b[39;00m \u001b[38;5;28mself\u001b[39m\u001b[38;5;241m.\u001b[39mrequest_encode_url(\n\u001b[0;32m    136\u001b[0m         method,\n\u001b[0;32m    137\u001b[0m         url,\n\u001b[1;32m   (...)\u001b[0m\n\u001b[0;32m    140\u001b[0m         \u001b[38;5;241m*\u001b[39m\u001b[38;5;241m*\u001b[39murlopen_kw,\n\u001b[0;32m    141\u001b[0m     )\n\u001b[0;32m    142\u001b[0m \u001b[38;5;28;01melse\u001b[39;00m:\n\u001b[1;32m--> 143\u001b[0m     \u001b[38;5;28;01mreturn\u001b[39;00m \u001b[38;5;28mself\u001b[39m\u001b[38;5;241m.\u001b[39mrequest_encode_body(\n\u001b[0;32m    144\u001b[0m         method, url, fields\u001b[38;5;241m=\u001b[39mfields, headers\u001b[38;5;241m=\u001b[39mheaders, \u001b[38;5;241m*\u001b[39m\u001b[38;5;241m*\u001b[39murlopen_kw\n\u001b[0;32m    145\u001b[0m     )\n",
      "File \u001b[1;32mc:\\Users\\hackathon\\DTCC_Sourcing\\.venv\\lib\\site-packages\\urllib3\\_request_methods.py:278\u001b[0m, in \u001b[0;36mRequestMethods.request_encode_body\u001b[1;34m(self, method, url, fields, headers, encode_multipart, multipart_boundary, **urlopen_kw)\u001b[0m\n\u001b[0;32m    274\u001b[0m     extra_kw[\u001b[38;5;124m\"\u001b[39m\u001b[38;5;124mheaders\u001b[39m\u001b[38;5;124m\"\u001b[39m]\u001b[38;5;241m.\u001b[39msetdefault(\u001b[38;5;124m\"\u001b[39m\u001b[38;5;124mContent-Type\u001b[39m\u001b[38;5;124m\"\u001b[39m, content_type)\n\u001b[0;32m    276\u001b[0m extra_kw\u001b[38;5;241m.\u001b[39mupdate(urlopen_kw)\n\u001b[1;32m--> 278\u001b[0m \u001b[38;5;28;01mreturn\u001b[39;00m \u001b[38;5;28mself\u001b[39m\u001b[38;5;241m.\u001b[39murlopen(method, url, \u001b[38;5;241m*\u001b[39m\u001b[38;5;241m*\u001b[39mextra_kw)\n",
      "File \u001b[1;32mc:\\Users\\hackathon\\DTCC_Sourcing\\.venv\\lib\\site-packages\\urllib3\\poolmanager.py:443\u001b[0m, in \u001b[0;36mPoolManager.urlopen\u001b[1;34m(self, method, url, redirect, **kw)\u001b[0m\n\u001b[0;32m    441\u001b[0m     response \u001b[38;5;241m=\u001b[39m conn\u001b[38;5;241m.\u001b[39murlopen(method, url, \u001b[38;5;241m*\u001b[39m\u001b[38;5;241m*\u001b[39mkw)\n\u001b[0;32m    442\u001b[0m \u001b[38;5;28;01melse\u001b[39;00m:\n\u001b[1;32m--> 443\u001b[0m     response \u001b[38;5;241m=\u001b[39m conn\u001b[38;5;241m.\u001b[39murlopen(method, u\u001b[38;5;241m.\u001b[39mrequest_uri, \u001b[38;5;241m*\u001b[39m\u001b[38;5;241m*\u001b[39mkw)\n\u001b[0;32m    445\u001b[0m redirect_location \u001b[38;5;241m=\u001b[39m redirect \u001b[38;5;129;01mand\u001b[39;00m response\u001b[38;5;241m.\u001b[39mget_redirect_location()\n\u001b[0;32m    446\u001b[0m \u001b[38;5;28;01mif\u001b[39;00m \u001b[38;5;129;01mnot\u001b[39;00m redirect_location:\n",
      "File \u001b[1;32mc:\\Users\\hackathon\\DTCC_Sourcing\\.venv\\lib\\site-packages\\urllib3\\connectionpool.py:871\u001b[0m, in \u001b[0;36mHTTPConnectionPool.urlopen\u001b[1;34m(self, method, url, body, headers, retries, redirect, assert_same_host, timeout, pool_timeout, release_conn, chunked, body_pos, preload_content, decode_content, **response_kw)\u001b[0m\n\u001b[0;32m    866\u001b[0m \u001b[38;5;28;01mif\u001b[39;00m \u001b[38;5;129;01mnot\u001b[39;00m conn:\n\u001b[0;32m    867\u001b[0m     \u001b[38;5;66;03m# Try again\u001b[39;00m\n\u001b[0;32m    868\u001b[0m     log\u001b[38;5;241m.\u001b[39mwarning(\n\u001b[0;32m    869\u001b[0m         \u001b[38;5;124m\"\u001b[39m\u001b[38;5;124mRetrying (\u001b[39m\u001b[38;5;132;01m%r\u001b[39;00m\u001b[38;5;124m) after connection broken by \u001b[39m\u001b[38;5;124m'\u001b[39m\u001b[38;5;132;01m%r\u001b[39;00m\u001b[38;5;124m'\u001b[39m\u001b[38;5;124m: \u001b[39m\u001b[38;5;132;01m%s\u001b[39;00m\u001b[38;5;124m\"\u001b[39m, retries, err, url\n\u001b[0;32m    870\u001b[0m     )\n\u001b[1;32m--> 871\u001b[0m     \u001b[38;5;28;01mreturn\u001b[39;00m \u001b[38;5;28mself\u001b[39m\u001b[38;5;241m.\u001b[39murlopen(\n\u001b[0;32m    872\u001b[0m         method,\n\u001b[0;32m    873\u001b[0m         url,\n\u001b[0;32m    874\u001b[0m         body,\n\u001b[0;32m    875\u001b[0m         headers,\n\u001b[0;32m    876\u001b[0m         retries,\n\u001b[0;32m    877\u001b[0m         redirect,\n\u001b[0;32m    878\u001b[0m         assert_same_host,\n\u001b[0;32m    879\u001b[0m         timeout\u001b[38;5;241m=\u001b[39mtimeout,\n\u001b[0;32m    880\u001b[0m         pool_timeout\u001b[38;5;241m=\u001b[39mpool_timeout,\n\u001b[0;32m    881\u001b[0m         release_conn\u001b[38;5;241m=\u001b[39mrelease_conn,\n\u001b[0;32m    882\u001b[0m         chunked\u001b[38;5;241m=\u001b[39mchunked,\n\u001b[0;32m    883\u001b[0m         body_pos\u001b[38;5;241m=\u001b[39mbody_pos,\n\u001b[0;32m    884\u001b[0m         preload_content\u001b[38;5;241m=\u001b[39mpreload_content,\n\u001b[0;32m    885\u001b[0m         decode_content\u001b[38;5;241m=\u001b[39mdecode_content,\n\u001b[0;32m    886\u001b[0m         \u001b[38;5;241m*\u001b[39m\u001b[38;5;241m*\u001b[39mresponse_kw,\n\u001b[0;32m    887\u001b[0m     )\n\u001b[0;32m    889\u001b[0m \u001b[38;5;66;03m# Handle redirect?\u001b[39;00m\n\u001b[0;32m    890\u001b[0m redirect_location \u001b[38;5;241m=\u001b[39m redirect \u001b[38;5;129;01mand\u001b[39;00m response\u001b[38;5;241m.\u001b[39mget_redirect_location()\n",
      "File \u001b[1;32mc:\\Users\\hackathon\\DTCC_Sourcing\\.venv\\lib\\site-packages\\urllib3\\connectionpool.py:871\u001b[0m, in \u001b[0;36mHTTPConnectionPool.urlopen\u001b[1;34m(self, method, url, body, headers, retries, redirect, assert_same_host, timeout, pool_timeout, release_conn, chunked, body_pos, preload_content, decode_content, **response_kw)\u001b[0m\n\u001b[0;32m    866\u001b[0m \u001b[38;5;28;01mif\u001b[39;00m \u001b[38;5;129;01mnot\u001b[39;00m conn:\n\u001b[0;32m    867\u001b[0m     \u001b[38;5;66;03m# Try again\u001b[39;00m\n\u001b[0;32m    868\u001b[0m     log\u001b[38;5;241m.\u001b[39mwarning(\n\u001b[0;32m    869\u001b[0m         \u001b[38;5;124m\"\u001b[39m\u001b[38;5;124mRetrying (\u001b[39m\u001b[38;5;132;01m%r\u001b[39;00m\u001b[38;5;124m) after connection broken by \u001b[39m\u001b[38;5;124m'\u001b[39m\u001b[38;5;132;01m%r\u001b[39;00m\u001b[38;5;124m'\u001b[39m\u001b[38;5;124m: \u001b[39m\u001b[38;5;132;01m%s\u001b[39;00m\u001b[38;5;124m\"\u001b[39m, retries, err, url\n\u001b[0;32m    870\u001b[0m     )\n\u001b[1;32m--> 871\u001b[0m     \u001b[38;5;28;01mreturn\u001b[39;00m \u001b[38;5;28mself\u001b[39m\u001b[38;5;241m.\u001b[39murlopen(\n\u001b[0;32m    872\u001b[0m         method,\n\u001b[0;32m    873\u001b[0m         url,\n\u001b[0;32m    874\u001b[0m         body,\n\u001b[0;32m    875\u001b[0m         headers,\n\u001b[0;32m    876\u001b[0m         retries,\n\u001b[0;32m    877\u001b[0m         redirect,\n\u001b[0;32m    878\u001b[0m         assert_same_host,\n\u001b[0;32m    879\u001b[0m         timeout\u001b[38;5;241m=\u001b[39mtimeout,\n\u001b[0;32m    880\u001b[0m         pool_timeout\u001b[38;5;241m=\u001b[39mpool_timeout,\n\u001b[0;32m    881\u001b[0m         release_conn\u001b[38;5;241m=\u001b[39mrelease_conn,\n\u001b[0;32m    882\u001b[0m         chunked\u001b[38;5;241m=\u001b[39mchunked,\n\u001b[0;32m    883\u001b[0m         body_pos\u001b[38;5;241m=\u001b[39mbody_pos,\n\u001b[0;32m    884\u001b[0m         preload_content\u001b[38;5;241m=\u001b[39mpreload_content,\n\u001b[0;32m    885\u001b[0m         decode_content\u001b[38;5;241m=\u001b[39mdecode_content,\n\u001b[0;32m    886\u001b[0m         \u001b[38;5;241m*\u001b[39m\u001b[38;5;241m*\u001b[39mresponse_kw,\n\u001b[0;32m    887\u001b[0m     )\n\u001b[0;32m    889\u001b[0m \u001b[38;5;66;03m# Handle redirect?\u001b[39;00m\n\u001b[0;32m    890\u001b[0m redirect_location \u001b[38;5;241m=\u001b[39m redirect \u001b[38;5;129;01mand\u001b[39;00m response\u001b[38;5;241m.\u001b[39mget_redirect_location()\n",
      "File \u001b[1;32mc:\\Users\\hackathon\\DTCC_Sourcing\\.venv\\lib\\site-packages\\urllib3\\connectionpool.py:871\u001b[0m, in \u001b[0;36mHTTPConnectionPool.urlopen\u001b[1;34m(self, method, url, body, headers, retries, redirect, assert_same_host, timeout, pool_timeout, release_conn, chunked, body_pos, preload_content, decode_content, **response_kw)\u001b[0m\n\u001b[0;32m    866\u001b[0m \u001b[38;5;28;01mif\u001b[39;00m \u001b[38;5;129;01mnot\u001b[39;00m conn:\n\u001b[0;32m    867\u001b[0m     \u001b[38;5;66;03m# Try again\u001b[39;00m\n\u001b[0;32m    868\u001b[0m     log\u001b[38;5;241m.\u001b[39mwarning(\n\u001b[0;32m    869\u001b[0m         \u001b[38;5;124m\"\u001b[39m\u001b[38;5;124mRetrying (\u001b[39m\u001b[38;5;132;01m%r\u001b[39;00m\u001b[38;5;124m) after connection broken by \u001b[39m\u001b[38;5;124m'\u001b[39m\u001b[38;5;132;01m%r\u001b[39;00m\u001b[38;5;124m'\u001b[39m\u001b[38;5;124m: \u001b[39m\u001b[38;5;132;01m%s\u001b[39;00m\u001b[38;5;124m\"\u001b[39m, retries, err, url\n\u001b[0;32m    870\u001b[0m     )\n\u001b[1;32m--> 871\u001b[0m     \u001b[38;5;28;01mreturn\u001b[39;00m \u001b[38;5;28mself\u001b[39m\u001b[38;5;241m.\u001b[39murlopen(\n\u001b[0;32m    872\u001b[0m         method,\n\u001b[0;32m    873\u001b[0m         url,\n\u001b[0;32m    874\u001b[0m         body,\n\u001b[0;32m    875\u001b[0m         headers,\n\u001b[0;32m    876\u001b[0m         retries,\n\u001b[0;32m    877\u001b[0m         redirect,\n\u001b[0;32m    878\u001b[0m         assert_same_host,\n\u001b[0;32m    879\u001b[0m         timeout\u001b[38;5;241m=\u001b[39mtimeout,\n\u001b[0;32m    880\u001b[0m         pool_timeout\u001b[38;5;241m=\u001b[39mpool_timeout,\n\u001b[0;32m    881\u001b[0m         release_conn\u001b[38;5;241m=\u001b[39mrelease_conn,\n\u001b[0;32m    882\u001b[0m         chunked\u001b[38;5;241m=\u001b[39mchunked,\n\u001b[0;32m    883\u001b[0m         body_pos\u001b[38;5;241m=\u001b[39mbody_pos,\n\u001b[0;32m    884\u001b[0m         preload_content\u001b[38;5;241m=\u001b[39mpreload_content,\n\u001b[0;32m    885\u001b[0m         decode_content\u001b[38;5;241m=\u001b[39mdecode_content,\n\u001b[0;32m    886\u001b[0m         \u001b[38;5;241m*\u001b[39m\u001b[38;5;241m*\u001b[39mresponse_kw,\n\u001b[0;32m    887\u001b[0m     )\n\u001b[0;32m    889\u001b[0m \u001b[38;5;66;03m# Handle redirect?\u001b[39;00m\n\u001b[0;32m    890\u001b[0m redirect_location \u001b[38;5;241m=\u001b[39m redirect \u001b[38;5;129;01mand\u001b[39;00m response\u001b[38;5;241m.\u001b[39mget_redirect_location()\n",
      "File \u001b[1;32mc:\\Users\\hackathon\\DTCC_Sourcing\\.venv\\lib\\site-packages\\urllib3\\connectionpool.py:841\u001b[0m, in \u001b[0;36mHTTPConnectionPool.urlopen\u001b[1;34m(self, method, url, body, headers, retries, redirect, assert_same_host, timeout, pool_timeout, release_conn, chunked, body_pos, preload_content, decode_content, **response_kw)\u001b[0m\n\u001b[0;32m    838\u001b[0m \u001b[38;5;28;01melif\u001b[39;00m \u001b[38;5;28misinstance\u001b[39m(new_e, (\u001b[38;5;167;01mOSError\u001b[39;00m, HTTPException)):\n\u001b[0;32m    839\u001b[0m     new_e \u001b[38;5;241m=\u001b[39m ProtocolError(\u001b[38;5;124m\"\u001b[39m\u001b[38;5;124mConnection aborted.\u001b[39m\u001b[38;5;124m\"\u001b[39m, new_e)\n\u001b[1;32m--> 841\u001b[0m retries \u001b[38;5;241m=\u001b[39m \u001b[43mretries\u001b[49m\u001b[38;5;241;43m.\u001b[39;49m\u001b[43mincrement\u001b[49m\u001b[43m(\u001b[49m\n\u001b[0;32m    842\u001b[0m \u001b[43m    \u001b[49m\u001b[43mmethod\u001b[49m\u001b[43m,\u001b[49m\u001b[43m \u001b[49m\u001b[43murl\u001b[49m\u001b[43m,\u001b[49m\u001b[43m \u001b[49m\u001b[43merror\u001b[49m\u001b[38;5;241;43m=\u001b[39;49m\u001b[43mnew_e\u001b[49m\u001b[43m,\u001b[49m\u001b[43m \u001b[49m\u001b[43m_pool\u001b[49m\u001b[38;5;241;43m=\u001b[39;49m\u001b[38;5;28;43mself\u001b[39;49m\u001b[43m,\u001b[49m\u001b[43m \u001b[49m\u001b[43m_stacktrace\u001b[49m\u001b[38;5;241;43m=\u001b[39;49m\u001b[43msys\u001b[49m\u001b[38;5;241;43m.\u001b[39;49m\u001b[43mexc_info\u001b[49m\u001b[43m(\u001b[49m\u001b[43m)\u001b[49m\u001b[43m[\u001b[49m\u001b[38;5;241;43m2\u001b[39;49m\u001b[43m]\u001b[49m\n\u001b[0;32m    843\u001b[0m \u001b[43m\u001b[49m\u001b[43m)\u001b[49m\n\u001b[0;32m    844\u001b[0m retries\u001b[38;5;241m.\u001b[39msleep()\n\u001b[0;32m    846\u001b[0m \u001b[38;5;66;03m# Keep track of the error for the retry warning.\u001b[39;00m\n",
      "File \u001b[1;32mc:\\Users\\hackathon\\DTCC_Sourcing\\.venv\\lib\\site-packages\\urllib3\\util\\retry.py:519\u001b[0m, in \u001b[0;36mRetry.increment\u001b[1;34m(self, method, url, response, error, _pool, _stacktrace)\u001b[0m\n\u001b[0;32m    517\u001b[0m \u001b[38;5;28;01mif\u001b[39;00m new_retry\u001b[38;5;241m.\u001b[39mis_exhausted():\n\u001b[0;32m    518\u001b[0m     reason \u001b[38;5;241m=\u001b[39m error \u001b[38;5;129;01mor\u001b[39;00m ResponseError(cause)\n\u001b[1;32m--> 519\u001b[0m     \u001b[38;5;28;01mraise\u001b[39;00m MaxRetryError(_pool, url, reason) \u001b[38;5;28;01mfrom\u001b[39;00m\u001b[38;5;250m \u001b[39m\u001b[38;5;21;01mreason\u001b[39;00m  \u001b[38;5;66;03m# type: ignore[arg-type]\u001b[39;00m\n\u001b[0;32m    521\u001b[0m log\u001b[38;5;241m.\u001b[39mdebug(\u001b[38;5;124m\"\u001b[39m\u001b[38;5;124mIncremented Retry for (url=\u001b[39m\u001b[38;5;124m'\u001b[39m\u001b[38;5;132;01m%s\u001b[39;00m\u001b[38;5;124m'\u001b[39m\u001b[38;5;124m): \u001b[39m\u001b[38;5;132;01m%r\u001b[39;00m\u001b[38;5;124m\"\u001b[39m, url, new_retry)\n\u001b[0;32m    523\u001b[0m \u001b[38;5;28;01mreturn\u001b[39;00m new_retry\n",
      "\u001b[1;31mMaxRetryError\u001b[0m: HTTPConnectionPool(host='localhost', port=58431): Max retries exceeded with url: /session/5abb9983d027206fe3c5a424434ad4d5/url (Caused by NewConnectionError('<urllib3.connection.HTTPConnection object at 0x00000225AB932DA0>: Failed to establish a new connection: [WinError 10061] No connection could be made because the target machine actively refused it'))"
     ]
    }
   ],
   "source": [
    "\n",
    "start_time = time.time()  # Start time\n",
    "\n",
    "records = fetch_and_process_corporate_actions()  # Fetch data\n",
    "\n",
    "end_time = time.time()  # End time\n",
    "execution_time = round(end_time - start_time, 2)  # Time taken in seconds\n",
    "\n",
    "total_records = len(records)  # Count of records\n",
    "status = \"Success\" if total_records > 0 else \"Unsuccess\"  # Status based on record count\n",
    "\n",
    "current_time = datetime.datetime.utcnow().strftime(\"%Y-%m-%dT%H:%M:%SZ\")  # Current UTC time\n",
    "\n",
    "# Payload for API request\n",
    "log_data = {\n",
    "    \"Scheduler_Name\": \"Bussiness_Wire\",\n",
    "    \"Source\": \"https://www.businesswire.com/portal/site/home/news/\",\n",
    "    \"Date_Time_Scheduler_Ran\": current_time,\n",
    "    \"Total_Records_Fetched\": str(total_records),\n",
    "    \"Time_Taken\": execution_time,\n",
    "    \"Status\": status\n",
    "}\n",
    "\n",
    "# API endpoint\n",
    "\n",
    "url = \"http://74.249.184.110:8000/insert-scheduler-log/\"\n",
    "\n",
    "# Send POST request\n",
    "response = requests.post(url, json=log_data)\n",
    "\n",
    "# Print response\n",
    "print(f\"API Response: {response.status_code}, {response.text}\")"
   ]
  },
  {
   "cell_type": "code",
   "execution_count": 3,
   "metadata": {},
   "outputs": [
    {
     "data": {
      "text/plain": [
       "[{'Company': 'Herron Todd White',\n",
       "  'Corporate_Action': 'Mergers',\n",
       "  'Date_Announcement': '2025-02-06 04:40:40',\n",
       "  'Source': 'https://www.businesswire.com/news/home/20250205286410/en/Herron-Todd-White-to-build-on-success-with-Quadrant-Private-Equity-Partnership',\n",
       "  'Extracted_Information': 'Company_Name: Herron Todd White\\nCompany_Symbol: \\nValue_Date: \\nCustodian_ID: \\nAccount_Number: \\nSettlement_Amount: \\nCurrency: \\nTax_Details: \\nEligibility: \\nDebit_Security_Details: \\nRemarks: \\nEx-Date: \\nCredit_New_Security_Asset_ID: \\nStock_Merger_Ratio: \\nDividend_Ratio:',\n",
       "  'Insertion_Date_Time': '2025-02-06 04:40:40',\n",
       "  'Modified_Date_Time': '2025-02-06 04:40:40'},\n",
       " {'Company': 'American Water',\n",
       "  'Corporate_Action': 'Mergers',\n",
       "  'Date_Announcement': '2025-02-06 04:40:40',\n",
       "  'Source': 'https://www.businesswire.com/news/home/20250205948006/en/California-American-Water-Completes-Acquisition-of-West-San-Martin-Water-Works',\n",
       "  'Extracted_Information': 'Company_Name: American Water\\nCompany_Symbol: AWK\\nSettlement_Amount: 1600000\\nCurrency: USD\\nValue_Date: February 2025\\n\\nAll other fields are empty as they are not mentioned in the provided text.',\n",
       "  'Insertion_Date_Time': '2025-02-06 04:40:40',\n",
       "  'Modified_Date_Time': '2025-02-06 04:40:40'},\n",
       " {'Company': 'Renesas Electronics Corporation',\n",
       "  'Corporate_Action': 'Cash Dividend Regular',\n",
       "  'Date_Announcement': 'February 6, 2025',\n",
       "  'Source': 'https://www.businesswire.com/news/home/20250205341267/en/Renesas-Reports-Financial-Results-for-the-Year-Ended-December-31-2024',\n",
       "  'Extracted_Information': 'Company_Name: Renesas Electronics Corporation\\nCompany_Symbol: TSE:6723\\nValue_Date: December 31, 2024\\nDividend_Amount_per_Share: 28.00\\nPayment_Date: March 31, 2025\\nAnnouncement_Date: February 6, 2025\\nCurrency: Yen',\n",
       "  'Insertion_Date_Time': '2025-02-06 04:40:40',\n",
       "  'Modified_Date_Time': '2025-02-06 04:40:40'}]"
      ]
     },
     "execution_count": 3,
     "metadata": {},
     "output_type": "execute_result"
    }
   ],
   "source": [
    "k"
   ]
  },
  {
   "cell_type": "code",
   "execution_count": 4,
   "metadata": {},
   "outputs": [
    {
     "data": {
      "text/plain": [
       "{'Company': 'Griffon Corporation',\n",
       " 'Corporate_Action': 'Cash Dividend Regular',\n",
       " 'Date_Announcement': '2025-02-05 12:40:04',\n",
       " 'Source': 'https://www.businesswire.com/news/home/20250204831282/en/Griffon-Corporation-Announces-First-Quarter-Results',\n",
       " 'Extracted_Information': 'Company_Name: Griffon Corporation\\nCompany_Symbol: GFF\\nDividend_Amount_per_Share: $0.18\\nCurrency: USD\\nPayment_Date: February 5, 2025\\n\\nAll other requested fields are empty as they are not provided in the financial record.',\n",
       " 'Insertion_Date_Time': '2025-02-05 12:40:04',\n",
       " 'Modified_Date_Time': '2025-02-05 12:40:04'}"
      ]
     },
     "execution_count": 4,
     "metadata": {},
     "output_type": "execute_result"
    }
   ],
   "source": [
    "k[0]"
   ]
  },
  {
   "cell_type": "code",
   "execution_count": 5,
   "metadata": {},
   "outputs": [
    {
     "data": {
      "text/plain": [
       "{'Company': 'Griffon Corporation',\n",
       " 'Corporate_Action': 'Cash Dividend Regular',\n",
       " 'Date_Announcement': '2025-02-05 12:40:17',\n",
       " 'Source': 'https://www.businesswire.com/news/home/20250204592037/en/Griffon-Corporation-Declares-Quarterly-Dividend',\n",
       " 'Extracted_Information': 'Company_Name: Griffon Corporation\\nCompany_Symbol: GFF\\nValue_Date: \\nCustodian_ID: \\nAccount_Number: \\nSettlement_Amount: \\nCurrency: \\nTax_Details: \\nEligibility: \\nDebit_Security_Details: \\nRemarks: \\nDividend_Amount_per_Share: 0.18\\nEx-Date: \\nRecord_Date: February 25, 2025\\nAnnouncement_Date: \\nPayment_Date: March 18, 2025\\nSedol: \\nCurrency: USD\\nDividend_Rate: 0.18',\n",
       " 'Insertion_Date_Time': '2025-02-05 12:40:04',\n",
       " 'Modified_Date_Time': '2025-02-05 12:40:04'}"
      ]
     },
     "execution_count": 5,
     "metadata": {},
     "output_type": "execute_result"
    }
   ],
   "source": [
    "k[1]"
   ]
  },
  {
   "cell_type": "code",
   "execution_count": 4,
   "metadata": {},
   "outputs": [
    {
     "name": "stdout",
     "output_type": "stream",
     "text": [
      "Status Code: 200, Response: {'message': \"New record inserted with status 'Not Verified'\"}\n",
      "Status Code: 200, Response: {'message': \"New record inserted with status 'Not Verified'\"}\n",
      "Status Code: 200, Response: {'message': \"New record inserted with status 'Not Verified'\"}\n"
     ]
    }
   ],
   "source": [
    "import requests\n",
    "\n",
    "# Define the API endpoint\n",
    "url = \"http://74.249.184.110:8000/insert-corporate-action/\"\n",
    "\n",
    "# Select the first 3 elements\n",
    "first_three_records = k\n",
    "\n",
    "# Loop through the first three elements and send POST requests\n",
    "for record in first_three_records:\n",
    "    response = requests.post(url, json=record)\n",
    "    print(f\"Status Code: {response.status_code}, Response: {response.json()}\")"
   ]
  },
  {
   "cell_type": "code",
   "execution_count": 9,
   "metadata": {},
   "outputs": [],
   "source": [
    "p=k[0]['Date_Announcement']"
   ]
  },
  {
   "cell_type": "code",
   "execution_count": 11,
   "metadata": {},
   "outputs": [],
   "source": [
    "announcement_date=p"
   ]
  },
  {
   "cell_type": "code",
   "execution_count": 13,
   "metadata": {},
   "outputs": [],
   "source": [
    "from datetime import datetime"
   ]
  },
  {
   "cell_type": "code",
   "execution_count": 14,
   "metadata": {},
   "outputs": [],
   "source": [
    "r=announcement_date if announcement_date else datetime.now().strftime(\"%Y-%m-%d %H:%M:%S\")"
   ]
  },
  {
   "cell_type": "code",
   "execution_count": 15,
   "metadata": {},
   "outputs": [
    {
     "data": {
      "text/plain": [
       "'2025-02-05 11:54:38'"
      ]
     },
     "execution_count": 15,
     "metadata": {},
     "output_type": "execute_result"
    }
   ],
   "source": [
    "r"
   ]
  },
  {
   "cell_type": "code",
   "execution_count": 1,
   "metadata": {},
   "outputs": [
    {
     "name": "stdout",
     "output_type": "stream",
     "text": [
      "Starting PR Newswire scraping...\n",
      "Scraping page: https://www.prnewswire.com/news-releases/news-releases-list/?page=1&pagesize=100\n",
      "Scraping page: https://www.prnewswire.com/news-releases/news-releases-list/?page=2&pagesize=100\n",
      "Stopping - found article older than 15 minutes\n",
      "Processing 30 articles...\n"
     ]
    }
   ],
   "source": [
    "from PR_News_Source import fetch_and_process_prnewswire\n",
    "formatted_data = fetch_and_process_prnewswire()"
   ]
  },
  {
   "cell_type": "code",
   "execution_count": 2,
   "metadata": {},
   "outputs": [
    {
     "data": {
      "text/plain": [
       "[{'Company': 'CSL Group',\n",
       "  'Corporate_Action': 'Mergers',\n",
       "  'Date_Announcement': '2025-02-06 07:30:00',\n",
       "  'Source': 'https://www.prnewswire.com/news-releases/csl-annonce-lacquisition-dedgeconnect-302369224.html',\n",
       "  'Extracted_Information': 'Company_Name: CSL Group\\nCompany_Symbol:\\nValue_Date: 2025-02-05\\nCustodian_ID:\\nAccount_Number:\\nSettlement_Amount:\\nCurrency:\\nTax_Details:\\nEligibility:\\nDebit_Security_Details:\\nRemarks:\\nEx-Date:\\nCredit_New_Security_Asset_ID:\\nStock_Merger_Ratio:\\nDividend_Ratio:',\n",
       "  'Insertion_Date_Time': '2025-02-06 04:49:52',\n",
       "  'Modified_Date_Time': '2025-02-06 04:49:52'},\n",
       " {'Company': 'CSL Group',\n",
       "  'Corporate_Action': 'Mergers',\n",
       "  'Date_Announcement': '2025-02-06 07:30:00',\n",
       "  'Source': 'https://www.prnewswire.com/news-releases/csl-anuncia-la-adquisicion-de-edgeconnect-302368646.html',\n",
       "  'Extracted_Information': 'Company_Name: CSL Group\\nCompany_Symbol: \\nValue_Date: 2025-02-05\\nCustodian_ID: \\nAccount_Number: \\nSettlement_Amount: \\nCurrency: \\nTax_Details: \\nEligibility: \\nDebit_Security_Details: \\nRemarks: CSL Group acquires EdgeConnect\\nEx-Date: \\nCredit_New_Security_Asset_ID: \\nStock_Merger_Ratio: \\nDividend_Ratio:',\n",
       "  'Insertion_Date_Time': '2025-02-06 04:49:52',\n",
       "  'Modified_Date_Time': '2025-02-06 04:49:52'},\n",
       " {'Company': 'CSL Group',\n",
       "  'Corporate_Action': 'Mergers',\n",
       "  'Date_Announcement': '2025-02-06 07:30:00',\n",
       "  'Source': 'https://www.prnewswire.com/news-releases/csl-announces-the-acquisition-of-edgeconnect-302367961.html',\n",
       "  'Extracted_Information': 'Company_Name: CSL Group\\nCompany_Symbol:\\nValue_Date: 2025-02-05\\nCustodian_ID:\\nAccount_Number:\\nSettlement_Amount:\\nCurrency:\\nTax_Details:\\nEligibility:\\nDebit_Security_Details:\\nRemarks: Acquisition of EdgeConnect\\nEx-Date:\\nCredit_New_Security_Asset_ID:\\nStock_Merger_Ratio:\\nDividend_Ratio:',\n",
       "  'Insertion_Date_Time': '2025-02-06 04:49:52',\n",
       "  'Modified_Date_Time': '2025-02-06 04:49:52'},\n",
       " {'Company': 'CSL Group',\n",
       "  'Corporate_Action': 'Mergers',\n",
       "  'Date_Announcement': '2025-02-06 07:30:00',\n",
       "  'Source': 'https://www.prnewswire.com/news-releases/csl-gibt-die-ubernahme-von-edgeconnect-bekannt-302368377.html',\n",
       "  'Extracted_Information': 'Company_Name: CSL Group\\nCompany_Symbol:\\nValue_Date: 2025-02-05\\nCustodian_ID:\\nAccount_Number:\\nSettlement_Amount:\\nCurrency:\\nTax_Details:\\nEligibility:\\nDebit_Security_Details:\\nRemarks:\\nEx-Date:\\nCredit_New_Security_Asset_ID:\\nStock_Merger_Ratio:\\nDividend_Ratio:',\n",
       "  'Insertion_Date_Time': '2025-02-06 04:49:52',\n",
       "  'Modified_Date_Time': '2025-02-06 04:49:52'},\n",
       " {'Company': 'CSL Group',\n",
       "  'Corporate_Action': 'Mergers',\n",
       "  'Date_Announcement': '2025-02-06 07:30:00',\n",
       "  'Source': 'https://www.prnewswire.com/news-releases/csl-announces-the-acquisition-of-edgeconnect-302367964.html',\n",
       "  'Extracted_Information': 'Company_Name: CSL Group\\nCompany_Symbol:\\nValue_Date: 2025-02-05\\nCustodian_ID:\\nAccount_Number:\\nSettlement_Amount:\\nCurrency:\\nTax_Details:\\nEligibility:\\nDebit_Security_Details:\\nRemarks: Acquisition of EdgeConnect\\nEx-Date:\\nCredit_New_Security_Asset_ID:\\nStock_Merger_Ratio:\\nDividend_Ratio:',\n",
       "  'Insertion_Date_Time': '2025-02-06 04:49:52',\n",
       "  'Modified_Date_Time': '2025-02-06 04:49:52'},\n",
       " {'Company': 'Weidner Apartment Homes',\n",
       "  'Corporate_Action': 'Mergers',\n",
       "  'Date_Announcement': '2025-02-06 06:05:00',\n",
       "  'Source': 'https://www.prnewswire.com/news-releases/weidner-apartment-homes-named-sole-owner-of-the-colorado-springs-switchbacks-fc-302369494.html',\n",
       "  'Extracted_Information': 'Company_Name: Weidner Apartment Homes\\nCompany_Symbol: \\nValue_Date: 2025-02-05\\nCustodian_ID: \\nAccount_Number: \\nSettlement_Amount: 50000000\\nCurrency: USD\\nTax_Details: \\nEligibility: \\nDebit_Security_Details: \\nRemarks: Acquisition of full ownership of Colorado Springs Switchbacks Football Club\\nEx-Date: \\nCredit_New_Security_Asset_ID: \\nStock_Merger_Ratio: \\nDividend_Ratio:',\n",
       "  'Insertion_Date_Time': '2025-02-06 04:49:52',\n",
       "  'Modified_Date_Time': '2025-02-06 04:49:52'},\n",
       " {'Company': 'Itaú Unibanco Holding S.A.',\n",
       "  'Corporate_Action': 'Cash Dividend Regular',\n",
       "  'Date_Announcement': '2025-02-06 06:05:00',\n",
       "  'Source': 'https://www.prnewswire.com/news-releases/itau-unibanco---material-fact--payment-of-dividends-and-interest-on-capital-302369495.html',\n",
       "  'Extracted_Information': 'Company_Name: Itaú Unibanco Holding S.A.\\nCompany_Symbol: ITUB3, ITUB4\\nValue_Date: \\nCustodian_ID: \\nAccount_Number: \\nSettlement_Amount: R$15 billion\\nCurrency: BRL\\nTax_Details: 15% withholding tax on interest on capital\\nEligibility: \\nDebit_Security_Details: \\nRemarks: \\nDividend_Amount_per_Share: R$1.25093\\nEx-Date: February 18, 2025\\nRecord_Date: February 17, 2025\\nAnnouncement_Date: February 5, 2025\\nPayment_Date: March 7, 2025\\nSedol: \\nCurrency: BRL\\nDividend_Rate: R$1.25093 (dividends) + R',\n",
       "  'Insertion_Date_Time': '2025-02-06 04:49:52',\n",
       "  'Modified_Date_Time': '2025-02-06 04:49:52'},\n",
       " {'Company': 'Weis Markets, Inc.',\n",
       "  'Corporate_Action': 'Cash Dividend Regular',\n",
       "  'Date_Announcement': '2025-02-06 03:48:00',\n",
       "  'Source': 'https://www.prnewswire.com/news-releases/weis-markets-announces-quarterly-dividend-302369439.html',\n",
       "  'Extracted_Information': 'Company_Name: Weis Markets, Inc.\\nCompany_Symbol: WMK\\nValue_Date:\\nCustodian_ID:\\nAccount_Number:\\nSettlement_Amount:\\nCurrency:\\nTax_Details:\\nEligibility:\\nDebit_Security_Details:\\nRemarks:\\nDividend_Amount_per_Share: 0.34\\nEx-Date:\\nRecord_Date: 2025-02-18\\nAnnouncement_Date: 2025-02-05\\nPayment_Date: 2025-03-04\\nSedol:\\nCurrency: USD\\nDividend_Rate: 0.34',\n",
       "  'Insertion_Date_Time': '2025-02-06 04:49:52',\n",
       "  'Modified_Date_Time': '2025-02-06 04:49:52'},\n",
       " {'Company': 'Century Communities, Inc.',\n",
       "  'Corporate_Action': 'Cash Dividend Regular',\n",
       "  'Date_Announcement': '2025-02-06 03:19:00',\n",
       "  'Source': 'https://www.prnewswire.com/news-releases/century-communities-increases-quarterly-cash-dividend-302369422.html',\n",
       "  'Extracted_Information': 'Company_Name: Century Communities, Inc.\\nCompany_Symbol: CCS\\nValue_Date: \\nCustodian_ID: \\nAccount_Number: \\nSettlement_Amount: \\nCurrency: \\nTax_Details: \\nEligibility: \\nDebit_Security_Details: \\nRemarks: \\nDividend_Amount_per_Share: 0.29\\nEx-Date: \\nRecord_Date: February 26, 2025\\nAnnouncement_Date: February 5, 2025\\nPayment_Date: March 12, 2025\\nSedol: \\nCurrency: USD\\nDividend_Rate: 12',\n",
       "  'Insertion_Date_Time': '2025-02-06 04:49:52',\n",
       "  'Modified_Date_Time': '2025-02-06 04:49:52'},\n",
       " {'Company': 'PepsiCo, Inc.',\n",
       "  'Corporate_Action': 'Cash Dividend Regular',\n",
       "  'Date_Announcement': '2025-02-06 03:11:00',\n",
       "  'Source': 'https://www.prnewswire.com/news-releases/pepsico-declares-quarterly-dividend-302369416.html',\n",
       "  'Extracted_Information': 'Company_Name: PepsiCo, Inc.\\nCompany_Symbol: PEP\\nValue_Date: \\nCustodian_ID: \\nAccount_Number: \\nSettlement_Amount: \\nCurrency: \\nTax_Details: \\nEligibility: \\nDebit_Security_Details: \\nRemarks: \\nDividend_Amount_per_Share: $1.355\\nEx-Date: \\nRecord_Date: March 7, 2025\\nAnnouncement_Date: February 5, 2025\\nPayment_Date: March 31, 2025\\nSedol: \\nCurrency: \\nDividend_Rate: 7 percent increase',\n",
       "  'Insertion_Date_Time': '2025-02-06 04:49:52',\n",
       "  'Modified_Date_Time': '2025-02-06 04:49:52'}]"
      ]
     },
     "execution_count": 2,
     "metadata": {},
     "output_type": "execute_result"
    }
   ],
   "source": [
    "formatted_data"
   ]
  },
  {
   "cell_type": "code",
   "execution_count": 4,
   "metadata": {},
   "outputs": [
    {
     "name": "stdout",
     "output_type": "stream",
     "text": [
      "Status Code: 200, Response: {'message': \"New record inserted with status 'Not Verified'\"}\n",
      "Status Code: 200, Response: {'message': \"New record inserted with status 'Not Verified'\"}\n",
      "Status Code: 200, Response: {'message': \"New record inserted with status 'Not Verified'\"}\n",
      "Status Code: 200, Response: {'message': \"New record inserted with status 'Not Verified'\"}\n",
      "Status Code: 200, Response: {'message': \"New record inserted with status 'Not Verified'\"}\n",
      "Status Code: 200, Response: {'message': \"New record inserted with status 'Not Verified'\"}\n",
      "Status Code: 200, Response: {'message': \"New record inserted with status 'Not Verified'\"}\n",
      "Status Code: 200, Response: {'message': \"New record inserted with status 'Not Verified'\"}\n",
      "Status Code: 200, Response: {'message': \"New record inserted with status 'Not Verified'\"}\n",
      "Status Code: 200, Response: {'message': \"New record inserted with status 'Not Verified'\"}\n"
     ]
    }
   ],
   "source": [
    "import requests\n",
    "\n",
    "# Define the API endpoint\n",
    "url = \"http://74.249.184.110:8000/insert-corporate-action/\"\n",
    "\n",
    "# Select the first 3 elements\n",
    "first_three_records = formatted_data\n",
    "\n",
    "# Loop through the first three elements and send POST requests\n",
    "for record in first_three_records:\n",
    "    response = requests.post(url, json=record)\n",
    "    print(f\"Status Code: {response.status_code}, Response: {response.json()}\")"
   ]
  },
  {
   "cell_type": "code",
   "execution_count": 6,
   "metadata": {},
   "outputs": [
    {
     "name": "stdout",
     "output_type": "stream",
     "text": [
      "Company_Name: Hub International Limited\n",
      "Company_Symbol:\n",
      "Value_Date: 2025-02-05\n",
      "Custodian_ID:\n",
      "Account_Number:\n",
      "Settlement_Amount:\n",
      "Currency:\n",
      "Tax_Details:\n",
      "Eligibility:\n",
      "Debit_Security_Details:\n",
      "Remarks:\n",
      "Ex-Date:\n",
      "Credit_New_Security_Asset_ID:\n",
      "Stock_Merger_Ratio:\n",
      "Dividend_Ratio:\n"
     ]
    }
   ],
   "source": [
    "print(pr_results[0]['Extracted_Information'])"
   ]
  },
  {
   "cell_type": "code",
   "execution_count": 1,
   "metadata": {},
   "outputs": [],
   "source": [
    "from FINRA_Source import process_finra_data"
   ]
  },
  {
   "cell_type": "code",
   "execution_count": null,
   "metadata": {},
   "outputs": [],
   "source": []
  },
  {
   "cell_type": "code",
   "execution_count": 1,
   "metadata": {},
   "outputs": [
    {
     "name": "stdout",
     "output_type": "stream",
     "text": [
      "    dailyListDatetime           dailyListReasonDescription newSymbolCode oldSymbolCode  ... ADRNetRate ADRIssuanceFeeAmount ADRWitholdingTaxPercentage qualifiedDividendDescription\n",
      "0 2025-02-05 09:46:55                         CUSIP Change         ZNOGW         ZNOGW  ...        NaN                  NaN                        NaN                          NaN\n",
      "1 2025-02-05 08:56:36                             Addition           NaN         PNDRY  ...        NaN                  NaN                        NaN                          NaN\n",
      "2 2025-02-05 08:56:30  Sponsored to Unsponsored Conversion           NaN         PANDY  ...        NaN                  NaN                        NaN                          NaN\n",
      "3 2025-02-05 08:11:23                Cash Dividend Regular         OKASY         OKASY  ...        NaN                  NaN                        NaN                          NaN\n",
      "4 2025-02-05 08:10:04                Cash Dividend Regular         HTSUY         HTSUY  ...        NaN                  NaN                        NaN                          NaN\n",
      "5 2025-02-05 08:08:27                Cash Dividend Regular         FRCOY         FRCOY  ...        NaN                  NaN                        NaN                          NaN\n",
      "6 2025-02-05 08:06:32                Cash Dividend Regular         AONNY         AONNY  ...        NaN                  NaN                        NaN                          NaN\n",
      "\n",
      "[7 rows x 42 columns]\n",
      "Skipping record with unknown event type: CUSIP Change\n",
      "Skipping record with unknown event type: Addition\n",
      "Skipping record with unknown event type: Sponsored to Unsponsored Conversion\n"
     ]
    }
   ],
   "source": [
    "from FINRA_Source import get_formatted_financial_data\n",
    "\n",
    "formatted_data = get_formatted_financial_data()"
   ]
  },
  {
   "cell_type": "code",
   "execution_count": 2,
   "metadata": {},
   "outputs": [
    {
     "data": {
      "text/plain": [
       "[{'Company': 'Onward Holdings Co., Ltd. Unponsored ADR (Japan)',\n",
       "  'Corporate_Action': 'Cash Dividend Regular',\n",
       "  'Date_Announcement': '2025-02-05 08:11:23',\n",
       "  'Source': 'FINRA',\n",
       "  'Extracted_Information': 'Company_Name: Onward Holdings Co., Ltd. Unponsored ADR (Japan)\\nCompany_Symbol: OKASY\\nValue_Date:\\nCustodian_ID:\\nAccount_Number:\\nSettlement_Amount:\\nCurrency:\\nTax_Details:\\nEligibility:\\nDebit_Security_Details:\\nRemarks: Amount & Pay Date TBA. NOTE: Citibank as Depositary for this issue has set a US record date of 02/28/2025 in the event that the Company announces a dividend at the annual shareholders meeting.\\nDividend_Amount_per_Share:\\nEx-Date:\\nRecord_Date: 2025-02-28\\nAnnouncement_Date:\\nPayment_Date:\\nSedol:\\nCurrency:\\nDividend_Rate:',\n",
       "  'Insertion_Date_Time': '2025-02-05T15:16:26.003408',\n",
       "  'Modified_Date_Time': '2025-02-05T15:16:26.003408'},\n",
       " {'Company': 'Hisamitsu Pharmaceutical Co Inc American Depositary Receipts - Unsponsored (Japan)',\n",
       "  'Corporate_Action': 'Cash Dividend Regular',\n",
       "  'Date_Announcement': '2025-02-05 08:10:04',\n",
       "  'Source': 'FINRA',\n",
       "  'Extracted_Information': 'Company_Name: Hisamitsu Pharmaceutical Co Inc\\nCompany_Symbol: HTSUY\\nValue_Date:\\nCustodian_ID:\\nAccount_Number:\\nSettlement_Amount:\\nCurrency:\\nTax_Details:\\nEligibility:\\nDebit_Security_Details:\\nRemarks: (APX) Amount & Pay Date TBA. NOTE: Citibank as Depositary for this issue has set a US record date of 02/28/2025 in the event that the Company announces a dividend at the annual shareholders meeting. Since the dividend amount (if any) and declaration of this dividend by the Company is subject to shareholders\\' approval, this issue will not be quoted \"ex dividend\".\\nDividend_Amount_per_Share:\\nEx-Date:\\nRecord_Date: 2025-02-28\\nAnnouncement_Date:\\nPayment_Date:\\nSedol',\n",
       "  'Insertion_Date_Time': '2025-02-05T15:16:26.003408',\n",
       "  'Modified_Date_Time': '2025-02-05T15:16:26.003408'},\n",
       " {'Company': 'Fast Retailing Co Ltd Unsponsored ADR (Japan)',\n",
       "  'Corporate_Action': 'Cash Dividend Regular',\n",
       "  'Date_Announcement': '2025-02-05 08:08:27',\n",
       "  'Source': 'FINRA',\n",
       "  'Extracted_Information': 'Company_Name: Fast Retailing Co Ltd Unsponsored ADR (Japan)\\nCompany_Symbol: FRCOY\\nValue_Date: \\nCustodian_ID: \\nAccount_Number: \\nSettlement_Amount: \\nCurrency: \\nTax_Details: \\nEligibility: \\nDebit_Security_Details: \\nRemarks: (APX) Amount & Pay Date TBA. NOTE: Citibank as Depositary for this issue has set a US record date of 02/28/2025 in the event that the Company announces a dividend at the annual shareholders meeting. Since the dividend amount (if any) and declaration of this dividend by the Company is subject to shareholders\\' approval, this issue will not be quoted \"ex dividend\". Members are reminded of their obligations under FINRA Rule 3220 (b) with respect to open orders.\\nDividen',\n",
       "  'Insertion_Date_Time': '2025-02-05T15:16:26.003408',\n",
       "  'Modified_Date_Time': '2025-02-05T15:16:26.003408'},\n",
       " {'Company': 'Aeon Co Ltd American Depositary Shares',\n",
       "  'Corporate_Action': 'Cash Dividend Regular',\n",
       "  'Date_Announcement': '2025-02-05 08:06:32',\n",
       "  'Source': 'FINRA',\n",
       "  'Extracted_Information': 'Company_Name: Aeon Co Ltd American Depositary Shares\\nCompany_Symbol: AONNY\\nValue_Date:\\nCustodian_ID:\\nAccount_Number:\\nSettlement_Amount:\\nCurrency:\\nTax_Details:\\nEligibility:\\nDebit_Security_Details:\\nRemarks: Amount & Pay Date TBA. NOTE: Citibank as Depositary for this issue has set a US record date of 02/28/2025 in the event that the Company announces a dividend at the annual shareholders meeting.\\nDividend_Amount_per_Share:\\nEx-Date:\\nRecord_Date: 2025-02-28\\nAnnouncement_Date: 2025-02-05\\nPayment_Date:\\nSedol:\\nCurrency:\\nDividend_Rate:',\n",
       "  'Insertion_Date_Time': '2025-02-05T15:16:26.003408',\n",
       "  'Modified_Date_Time': '2025-02-05T15:16:26.003408'}]"
      ]
     },
     "execution_count": 2,
     "metadata": {},
     "output_type": "execute_result"
    }
   ],
   "source": [
    "formatted_data"
   ]
  },
  {
   "cell_type": "code",
   "execution_count": 3,
   "metadata": {},
   "outputs": [
    {
     "name": "stdout",
     "output_type": "stream",
     "text": [
      "Status Code: 200, Response: {'message': \"New record inserted with status 'Not Verified'\"}\n",
      "Status Code: 200, Response: {'message': \"New record inserted with status 'Not Verified'\"}\n",
      "Status Code: 200, Response: {'message': \"New record inserted with status 'Not Verified'\"}\n",
      "Status Code: 200, Response: {'message': \"New record inserted with status 'Not Verified'\"}\n"
     ]
    }
   ],
   "source": [
    "import requests\n",
    "\n",
    "# Define the API endpoint\n",
    "url = \"http://74.249.184.110:8000/insert-corporate-action/\"\n",
    "\n",
    "# Select the first 3 elements\n",
    "first_three_records = formatted_data\n",
    "\n",
    "# Loop through the first three elements and send POST requests\n",
    "for record in first_three_records:\n",
    "    response = requests.post(url, json=record)\n",
    "    print(f\"Status Code: {response.status_code}, Response: {response.json()}\")"
   ]
  },
  {
   "cell_type": "code",
   "execution_count": null,
   "metadata": {},
   "outputs": [],
   "source": []
  }
 ],
 "metadata": {
  "kernelspec": {
   "display_name": ".venv",
   "language": "python",
   "name": "python3"
  },
  "language_info": {
   "codemirror_mode": {
    "name": "ipython",
    "version": 3
   },
   "file_extension": ".py",
   "mimetype": "text/x-python",
   "name": "python",
   "nbconvert_exporter": "python",
   "pygments_lexer": "ipython3",
   "version": "3.10.0"
  }
 },
 "nbformat": 4,
 "nbformat_minor": 2
}
